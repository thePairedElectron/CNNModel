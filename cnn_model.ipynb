{
  "nbformat": 4,
  "nbformat_minor": 0,
  "metadata": {
    "colab": {
      "name": "cnn_model.ipynb",
      "version": "0.3.2",
      "provenance": [],
      "collapsed_sections": [],
      "toc_visible": true,
      "include_colab_link": true
    },
    "kernelspec": {
      "name": "python3",
      "display_name": "Python 3"
    },
    "accelerator": "GPU"
  },
  "cells": [
    {
      "cell_type": "markdown",
      "metadata": {
        "id": "view-in-github",
        "colab_type": "text"
      },
      "source": [
        "<a href=\"https://colab.research.google.com/github/thePairedElectron/CNNModel/blob/master/cnn_model.ipynb\" target=\"_parent\"><img src=\"https://colab.research.google.com/assets/colab-badge.svg\" alt=\"Open In Colab\"/></a>"
      ]
    },
    {
      "metadata": {
        "id": "HvagprE9o94G",
        "colab_type": "code",
        "outputId": "4ddd3375-2b4e-4eab-d6f1-bbd5d49e9f5e",
        "colab": {
          "base_uri": "https://localhost:8080/",
          "height": 35
        }
      },
      "cell_type": "code",
      "source": [
        "from keras.models import Sequential\n",
        "from keras.layers import Dense, Flatten, Conv2D, Dropout\n",
        "from keras.models import Sequential\n",
        "from keras.layers.core import Dense,Flatten\n",
        "from keras.optimizers import Adam\n",
        "from keras.layers.normalization import BatchNormalization\n",
        "from keras.layers.convolutional import *\n"
      ],
      "execution_count": 0,
      "outputs": [
        {
          "output_type": "stream",
          "text": [
            "Using TensorFlow backend.\n"
          ],
          "name": "stderr"
        }
      ]
    },
    {
      "metadata": {
        "id": "5WfvAgI6Gebj",
        "colab_type": "text"
      },
      "cell_type": "markdown",
      "source": [
        "# Rahul VGG File"
      ]
    },
    {
      "metadata": {
        "id": "ddJwiOCHYBKK",
        "colab_type": "code",
        "outputId": "040b6fe2-9000-48a4-a696-7aab4ac26c2c",
        "colab": {
          "base_uri": "https://localhost:8080/",
          "height": 67
        }
      },
      "cell_type": "code",
      "source": [
        "# -*- coding: utf-8 -*-\n",
        "\"\"\"\n",
        "Spyder Editor\n",
        "\n",
        "This is a temporary script file.\n",
        "\"\"\"\n",
        "\n",
        "import numpy as np\n",
        "import keras as k\n",
        "from keras.models import Sequential\n",
        "from keras.optimizers import Adam\n",
        "from keras.metrics import categorical_crossentropy\n",
        "from keras.preprocessing.image import ImageDataGenerator\n",
        "from keras.models import Sequential\n",
        "from keras.layers import Dense, Flatten, Conv2D, Dropout\n",
        "from keras.models import Sequential\n",
        "from keras.layers.core import Dense,Flatten\n",
        "from keras.optimizers import adam\n",
        "from keras.layers.normalization import BatchNormalization\n",
        "from keras.layers.convolutional import *\n",
        "\n",
        "\n",
        "\n",
        "#gdrive/My Drive/Colab Notebooks/Dataset\n",
        "#Dataset_Signature_Final.zip\n",
        "train_path = 'gdrive/My Drive/Colab Notebooks/Training'\n",
        "valid_path = 'gdrive/My Drive/Colab Notebooks/Test'\n",
        "#test_path  = ''\n",
        "\n",
        "train_batches = ImageDataGenerator().flow_from_directory(train_path,target_size=(224,224),classes=['real','forge'],batch_size =1)\n",
        "valid_batches = ImageDataGenerator().flow_from_directory(valid_path,target_size=(224,224),classes=['real','forge'],batch_size =1)\n",
        "#test_batches  = ImageDataGenerator().flow_from_directory(test_path,targe_size=(224,224),classes=['Real','fake'],batch_size = 10)\n",
        "#train_batches = train_batches/255\n",
        "#valid_batches = valid_batches/255\n",
        "#print(next(train_batches))\n",
        "#imgs,labels = next(train_batches)\n",
        "\n",
        "vgg16_model = k.applications.vgg16.VGG16(weights = 'imagenet')\n",
        "#print(vgg16_model.activations)\n",
        "model = Sequential()\n",
        "#model.add(Dense(numberOfNeurons, activation='yourActivationFunction', input_dim=inputDimension))\n",
        "for layer in vgg16_model.layers:\n",
        "    model.add(layer)\n",
        "\n",
        "\n",
        "model.layers.pop()\n",
        "model.add(Dense(2,activation='softmax'))\n",
        "#vgg16_model.summary()\n",
        "for layer in vgg16_model.layers:\n",
        "    layer.trainable = False\n",
        "adam = Adam(lr = 0.0001)\n",
        "#model.compile(loss=k.losses.categorical_crossentropy,optimizer = adam,metrics=['accuracy'])\n",
        "#model.fit_generator(train_batches,steps_per_epoch =5 ,validation_data= valid_batches,validation_steps = 2,epochs = 10 , verbose = 2)\n",
        "#model.save('gdrive/My Drive/Colab Notebooks/signature_model1.h5')\n",
        "#model.get_config()\n",
        "model.count_params()\n",
        "print(next(train_batches))\n"
      ],
      "execution_count": 0,
      "outputs": [
        {
          "output_type": "stream",
          "text": [
            "Found 567 images belonging to 2 classes.\n",
            "Found 164 images belonging to 2 classes.\n"
          ],
          "name": "stdout"
        },
        {
          "output_type": "execute_result",
          "data": {
            "text/plain": [
              "138359546"
            ]
          },
          "metadata": {
            "tags": []
          },
          "execution_count": 4
        }
      ]
    },
    {
      "metadata": {
        "id": "5TG3AtVIZIS3",
        "colab_type": "text"
      },
      "cell_type": "markdown",
      "source": [
        "# **Preprocessing**"
      ]
    },
    {
      "metadata": {
        "id": "TP5DHTtZ6t4Z",
        "colab_type": "code",
        "colab": {}
      },
      "cell_type": "code",
      "source": [
        "#from sklearn.filters import threshold_otsu\n",
        "import cv2\n",
        "def preprocessing(image):\n",
        "#   cv2.imshow(\"pre\",image)\n",
        "#  print(\"Hi\")\n",
        "  img = cv.GaussianBlur(image,(5,5),0)\n",
        "  ret2,th2 = cv2.threshold(img,0,255,cv2.THRESH_BINARY+cv2.THRESH_OTSU)\n",
        "  th2 = cv2.bitwise_not(th2)\n",
        "#   cv2.imshow(\"post\",image)\n",
        "  return th2;\n",
        "# img = cv2.imread('gdrive/My Drive/Colab Notebooks/User1/real/00600006.png',0)\n",
        "# cv2.imshow(\"pre\",img)\n",
        "#preprocessing(img)\n",
        "#train_path = 'gdrive/My Drive/Colab Notebooks/User1'\n",
        "#train_batches = ImageDataGenerator(preprocessing_function =  preprocessing).flow_from_directory(train_path,target_size=(224,224),classes=['real','forge'],batch_size =32)\n",
        "\n",
        "\n",
        "  "
      ],
      "execution_count": 0,
      "outputs": []
    },
    {
      "metadata": {
        "id": "ZklFfiLo9SRo",
        "colab_type": "code",
        "colab": {}
      },
      "cell_type": "code",
      "source": [
        ""
      ],
      "execution_count": 0,
      "outputs": []
    },
    {
      "metadata": {
        "id": "YDcyQLozGlWr",
        "colab_type": "text"
      },
      "cell_type": "markdown",
      "source": [
        "# Rahul VGG impl"
      ]
    },
    {
      "metadata": {
        "id": "WAhnrgms_SPt",
        "colab_type": "code",
        "outputId": "5ec8a1b3-e1d4-418a-bb8c-30f5c92fc1d2",
        "colab": {
          "base_uri": "https://localhost:8080/",
          "height": 403
        }
      },
      "cell_type": "code",
      "source": [
        "\n",
        "import numpy as np\n",
        "import keras as k\n",
        "from keras.models import Sequential\n",
        "from keras.optimizers import Adam\n",
        "from keras.metrics import categorical_crossentropy\n",
        "from keras.preprocessing.image import ImageDataGenerator\n",
        "from keras.models import Sequential\n",
        "from keras.layers import Dense, Flatten, Conv2D, Dropout\n",
        "from keras.models import Sequential\n",
        "from keras.layers.core import Dense,Flatten\n",
        "from keras.optimizers import adam\n",
        "from keras.layers.normalization import BatchNormalization\n",
        "from keras.layers.convolutional import *\n",
        "from keras.models import Sequential\n",
        "from keras.layers import Dense, Activation, Dropout, Flatten\n",
        "from keras.layers import Conv2D\n",
        "from keras.layers import MaxPooling2D\n",
        "from keras import optimizers\n",
        "\n",
        "train_path = 'gdrive/My Drive/Colab Notebooks/Training'\n",
        "valid_path = 'gdrive/My Drive/Colab Notebooks/Test'\n",
        "#test_path  = ''\n",
        "\n",
        "train_batches = ImageDataGenerator().flow_from_directory(train_path,target_size=(224,224),color_mode = 'rgb',classes=['real','forge'],batch_size = 10)\n",
        "valid_batches = ImageDataGenerator().flow_from_directory(valid_path,target_size=(224,224),color_mode = 'rgb',classes=['real','forge'],batch_size = 10)\n",
        "#test_batches  = ImageDataGenerator().flow_from_directory(test_path,targe_size=(224,224),classes=['Real','fake'],batch_size = 10)\n",
        "\n",
        "input_shape = (224, 224, 3)\n",
        "\n",
        "model = Sequential([\n",
        "    Conv2D(64, (3, 3), input_shape=input_shape, padding='same',activation='relu'),\n",
        "    Conv2D(64, (3, 3), activation='relu', padding='same',kernel_initializer = 'random_uniform',bias_initializer = 'zero'),\n",
        "    MaxPooling2D(pool_size=(2, 2), strides=(2, 2),),\n",
        "    Conv2D(128, (3, 3), activation='relu', padding='same',kernel_initializer = 'random_uniform',bias_initializer = 'zero'),\n",
        "    Conv2D(128, (3, 3), activation='relu', padding='same',kernel_initializer = 'random_uniform',bias_initializer = 'zero'),\n",
        "    MaxPooling2D(pool_size=(2, 2), strides=(2, 2),),\n",
        "    Conv2D(256, (3, 3), activation='relu', padding='same',kernel_initializer = 'random_uniform',bias_initializer = 'zero'),\n",
        "    Conv2D(256, (3, 3), activation='relu', padding='same',kernel_initializer = 'random_uniform',bias_initializer = 'zero'),\n",
        "    Conv2D(256, (3, 3), activation='relu', padding='same',kernel_initializer = 'random_uniform',bias_initializer = 'zero'),\n",
        "    MaxPooling2D(pool_size=(2, 2), strides=(2, 2),),\n",
        "    Conv2D(512, (3, 3), activation='relu', padding='same',kernel_initializer = 'random_uniform',bias_initializer = 'zero'),\n",
        "    Conv2D(512, (3, 3), activation='relu', padding='same',kernel_initializer = 'random_uniform',bias_initializer = 'zero'),\n",
        "    Conv2D(512, (3, 3), activation='relu', padding='same',kernel_initializer = 'random_uniform',bias_initializer = 'zero'),\n",
        "    MaxPooling2D(pool_size=(2, 2), strides=(2, 2),),\n",
        "    Conv2D(512, (3, 3), activation='relu', padding='same',kernel_initializer = 'random_uniform',bias_initializer = 'zero'),\n",
        "    Conv2D(512, (3, 3), activation='relu', padding='same',kernel_initializer = 'random_uniform',bias_initializer = 'zero'),\n",
        "    Conv2D(512, (3, 3), activation='relu', padding='same',kernel_initializer = 'random_uniform',bias_initializer = 'zero'),\n",
        "    MaxPooling2D(pool_size=(2, 2), strides=(2, 2),),\n",
        "    Flatten(),\n",
        "    Dense(4096, activation='relu',kernel_initializer = 'random_uniform',bias_initializer = 'zero'),\n",
        "    Dense(4096, activation='relu',kernel_initializer = 'random_uniform',bias_initializer = 'zero'),\n",
        "    Dense(2, activation='softmax')\n",
        "])\n",
        "\n",
        "#model.layers.pop()\n",
        "#model.add(Dense(2,activation='softmax'))\n",
        "gd = optimizers.SGD(lr=0.01, decay=1e-6, momentum=0.9, nesterov=True)\n",
        "adam = Adam(lr = 0.0001)\n",
        "model.compile(loss=k.losses.categorical_crossentropy,optimizer = gd,metrics=['accuracy'])\n",
        "model.fit_generator(train_batches,steps_per_epoch =56 ,validation_data= valid_batches,validation_steps = 16,epochs = 10 , verbose = 2)"
      ],
      "execution_count": 0,
      "outputs": [
        {
          "output_type": "stream",
          "text": [
            "Found 567 images belonging to 2 classes.\n",
            "Found 164 images belonging to 2 classes.\n",
            "Epoch 1/10\n",
            " - 189s - loss: 7.8229 - acc: 0.5143 - val_loss: 8.0590 - val_acc: 0.5000\n",
            "Epoch 2/10\n",
            " - 30s - loss: 8.0507 - acc: 0.5005 - val_loss: 8.2684 - val_acc: 0.4870\n",
            "Epoch 3/10\n",
            " - 27s - loss: 8.0795 - acc: 0.4987 - val_loss: 7.6404 - val_acc: 0.5260\n",
            "Epoch 4/10\n",
            " - 27s - loss: 8.0553 - acc: 0.5002 - val_loss: 8.7917 - val_acc: 0.4545\n",
            "Epoch 5/10\n",
            " - 27s - loss: 7.9235 - acc: 0.5084 - val_loss: 7.7451 - val_acc: 0.5195\n",
            "Epoch 6/10\n",
            " - 27s - loss: 7.9522 - acc: 0.5066 - val_loss: 7.7451 - val_acc: 0.5195\n",
            "Epoch 7/10\n",
            " - 27s - loss: 8.0144 - acc: 0.5028 - val_loss: 8.1637 - val_acc: 0.4935\n",
            "Epoch 8/10\n",
            " - 27s - loss: 8.0507 - acc: 0.5005 - val_loss: 7.7451 - val_acc: 0.5195\n",
            "Epoch 9/10\n",
            " - 27s - loss: 7.8492 - acc: 0.5130 - val_loss: 8.6870 - val_acc: 0.4610\n",
            "Epoch 10/10\n",
            " - 27s - loss: 8.1492 - acc: 0.4944 - val_loss: 8.0590 - val_acc: 0.5000\n"
          ],
          "name": "stdout"
        },
        {
          "output_type": "execute_result",
          "data": {
            "text/plain": [
              "<keras.callbacks.History at 0x7f4fbecda550>"
            ]
          },
          "metadata": {
            "tags": []
          },
          "execution_count": 3
        }
      ]
    },
    {
      "metadata": {
        "id": "d_3nuTu4A9Xw",
        "colab_type": "code",
        "colab": {}
      },
      "cell_type": "code",
      "source": [
        "vgg16.summary()"
      ],
      "execution_count": 0,
      "outputs": []
    },
    {
      "metadata": {
        "id": "4Fkt4WgfGtDe",
        "colab_type": "text"
      },
      "cell_type": "markdown",
      "source": [
        "# Google drive mount"
      ]
    },
    {
      "metadata": {
        "id": "H3ucIAT2hSRA",
        "colab_type": "code",
        "outputId": "7f465214-c8d2-4a04-8c2a-bbd7023b4e87",
        "colab": {
          "base_uri": "https://localhost:8080/",
          "height": 121
        }
      },
      "cell_type": "code",
      "source": [
        "from google.colab import drive\n",
        "drive.mount('/content/gdrive')"
      ],
      "execution_count": 0,
      "outputs": [
        {
          "output_type": "stream",
          "text": [
            "Go to this URL in a browser: https://accounts.google.com/o/oauth2/auth?client_id=947318989803-6bn6qk8qdgf4n4g3pfee6491hc0brc4i.apps.googleusercontent.com&redirect_uri=urn%3Aietf%3Awg%3Aoauth%3A2.0%3Aoob&scope=email%20https%3A%2F%2Fwww.googleapis.com%2Fauth%2Fdocs.test%20https%3A%2F%2Fwww.googleapis.com%2Fauth%2Fdrive%20https%3A%2F%2Fwww.googleapis.com%2Fauth%2Fdrive.photos.readonly%20https%3A%2F%2Fwww.googleapis.com%2Fauth%2Fpeopleapi.readonly&response_type=code\n",
            "\n",
            "Enter your authorization code:\n",
            "··········\n",
            "Mounted at /content/gdrive\n"
          ],
          "name": "stdout"
        }
      ]
    },
    {
      "metadata": {
        "id": "u-atvs_rOwzn",
        "colab_type": "code",
        "colab": {}
      },
      "cell_type": "code",
      "source": [
        "from google"
      ],
      "execution_count": 0,
      "outputs": []
    },
    {
      "metadata": {
        "id": "P7mn4gWFGw3f",
        "colab_type": "text"
      },
      "cell_type": "markdown",
      "source": [
        "# Nisarg VGG File"
      ]
    },
    {
      "metadata": {
        "id": "MsGg8VPIYhNO",
        "colab_type": "code",
        "outputId": "db4962ab-8a44-42fa-bb86-0c2f61be3a5e",
        "colab": {
          "base_uri": "https://localhost:8080/",
          "height": 3059
        }
      },
      "cell_type": "code",
      "source": [
        "import numpy as np\n",
        "import keras as k\n",
        "from keras.models import Sequential\n",
        "from keras.optimizers import Adam\n",
        "from keras.metrics import categorical_crossentropy\n",
        "from keras.preprocessing.image import ImageDataGenerator\n",
        "from keras.models import Sequential, Model\n",
        "from keras.layers import Dense, Flatten, Conv2D, Dropout\n",
        "from keras.models import Sequential\n",
        "from keras.layers.core import Dense,Flatten\n",
        "from keras.optimizers import adam\n",
        "from keras.layers.normalization import BatchNormalization\n",
        "from keras.layers.convolutional import *\n",
        "\n",
        "\n",
        "\n",
        "#gdrive/My Drive/Colab Notebooks/Dataset\n",
        "#Dataset_Signature_Final.zip\n",
        "train_path ='gdrive/My Drive/Colab Notebooks/Dataset/dataset1'\n",
        "valid_path = 'gdrive/My Drive/Colab Notebooks/Dataset/dataset1'\n",
        "#test_path  = ''\n",
        "batch_size = 4\n",
        "\n",
        "\n",
        "train_batches = ImageDataGenerator(rescale = 1./255).flow_from_directory(train_path,target_size=(224,224),classes=['real','forge'],batch_size = 16)\n",
        "valid_batches = ImageDataGenerator(rescale = 1./255).flow_from_directory(valid_path,target_size=(224,224),classes=['real','forge'],batch_size = 8)\n",
        "test_batches = ImageDataGenerator(rescale = 1./255).flow_from_directory(valid_path,target_size=(224,224),classes=['real','forge'],batch_size = 4)\n",
        "\n",
        "\n",
        "#print(next(train_batches))\n",
        "# def pop_layer(model):\n",
        "#     if not model.outputs:\n",
        "#         raise Exception('Sequential model cannot be popped: model is empty.')\n",
        "\n",
        "#     model.layers.pop()\n",
        "#     if not model.layers:\n",
        "#         model.outputs = []\n",
        "#         model.inbound_nodes = []\n",
        "#         model.outbound_nodes = []\n",
        "#     else:\n",
        "#         model.layers[-1].outbound_nodes = []\n",
        "#         model.outputs = [model.layers[-1].output]\n",
        "#     model.built = False\n",
        "\n",
        "vgg16_model = k.applications.vgg16.VGG16(weights = 'imagenet',include_top = True)\n",
        "\n",
        "#model.add(Dense(numberOfNeurons, activation='yourActivationFunction', input_dim=inputDimension))\n",
        "#model = Sequential()\n",
        "#for layer in vgg16_model.layers:\n",
        "#   model.add(layer)\n",
        "\n",
        "#vgg16_model.summary()\n",
        "#model.layers.pop()\n",
        "#vgg = Model(inputs=vgg16_model.get_input_at(0), outputs=vgg16_model.layers[-2].get_output_at(0))\n",
        "\n",
        "#Add a layer where input is the output of the  second last layer \n",
        "x = Dense(2, activation='softmax', name='predictions')(vgg16_model.layers[-2].output)\n",
        "\n",
        "#Then create the corresponding model \n",
        "model = Model(input=vgg16_model.input, output=x)\n",
        "#model.add(vgg)\n",
        "#model.add(Flatten(name='flatten'))\n",
        "#model.add(Dense(4096, activation='relu', name='fc1'))\n",
        "#model.add(Dense(4096, activation='relu', name='fc2'))\n",
        "#model.add(Dense(2, activation='softmax', name='predictions'))\n",
        "#model.add(Dense(2,activation='softmax'))\n",
        "#model.summary()\n",
        "for layer in model.layers:\n",
        "   layer.trainable = False\n",
        "model.summary() \n",
        "model.get_layer('predictions').trainable = True  \n",
        "model.summary()\n",
        "\n",
        "adam = Adam(lr = 0.0001)\n",
        "model.compile(loss=k.losses.categorical_crossentropy,optimizer = adam,metrics=['accuracy'])\n",
        "history = model.fit_generator(train_batches,steps_per_epoch = 36,validation_data= valid_batches,validation_steps = 20, epochs = 30 , verbose = 1)\n",
        "#model.save('gdrive/My Drive/Colab Notebooks/signature_model_30epochs.h5')\n",
        "\n",
        "# data_list = []\n",
        "# batch_index = 0\n",
        "# while batch_index <= test_batches.batch_index:\n",
        "#     data,label = test_batches.next()\n",
        "#     data_list.append(label[:,0])\n",
        "#     batch_index = batch_index + 1\n",
        "# total_num = batch_index * batch_size\n",
        "# print(total_num)\n",
        "# prediction = model.predict_generator(test_batches,steps = batch_index,verbose = 0);\n",
        "# predictions = np.round(prediction[:,0])\n",
        "\n",
        "\n",
        "\n",
        "# data_array = np.asarray(data_list)\n",
        "# flat_list = [item for sublist in data_array for item in sublist]\n",
        "\n",
        "# import matplotlib.pyplot as plt\n",
        "# from sklearn.metrics import confusion_matrix\n",
        "# y_test = flat_list\n",
        "# y_pred = predictions\n",
        "# cnf_matrix = confusion_matrix(y_test, y_pred)\n",
        "# class_names = ['real','forge']\n",
        "# plot_confusion_matrix(cnf_matrix, classes=class_names,\n",
        "#                       title='Confusion matrix CNN VGG architecture')\n"
      ],
      "execution_count": 0,
      "outputs": [
        {
          "output_type": "stream",
          "text": [
            "Found 120 images belonging to 2 classes.\n",
            "Found 120 images belonging to 2 classes.\n",
            "Found 120 images belonging to 2 classes.\n"
          ],
          "name": "stdout"
        },
        {
          "output_type": "stream",
          "text": [
            "/usr/local/lib/python3.6/dist-packages/ipykernel_launcher.py:60: UserWarning: Update your `Model` call to the Keras 2 API: `Model(inputs=Tensor(\"in..., outputs=Tensor(\"pr...)`\n"
          ],
          "name": "stderr"
        },
        {
          "output_type": "stream",
          "text": [
            "_________________________________________________________________\n",
            "Layer (type)                 Output Shape              Param #   \n",
            "=================================================================\n",
            "input_3 (InputLayer)         (None, 224, 224, 3)       0         \n",
            "_________________________________________________________________\n",
            "block1_conv1 (Conv2D)        (None, 224, 224, 64)      1792      \n",
            "_________________________________________________________________\n",
            "block1_conv2 (Conv2D)        (None, 224, 224, 64)      36928     \n",
            "_________________________________________________________________\n",
            "block1_pool (MaxPooling2D)   (None, 112, 112, 64)      0         \n",
            "_________________________________________________________________\n",
            "block2_conv1 (Conv2D)        (None, 112, 112, 128)     73856     \n",
            "_________________________________________________________________\n",
            "block2_conv2 (Conv2D)        (None, 112, 112, 128)     147584    \n",
            "_________________________________________________________________\n",
            "block2_pool (MaxPooling2D)   (None, 56, 56, 128)       0         \n",
            "_________________________________________________________________\n",
            "block3_conv1 (Conv2D)        (None, 56, 56, 256)       295168    \n",
            "_________________________________________________________________\n",
            "block3_conv2 (Conv2D)        (None, 56, 56, 256)       590080    \n",
            "_________________________________________________________________\n",
            "block3_conv3 (Conv2D)        (None, 56, 56, 256)       590080    \n",
            "_________________________________________________________________\n",
            "block3_pool (MaxPooling2D)   (None, 28, 28, 256)       0         \n",
            "_________________________________________________________________\n",
            "block4_conv1 (Conv2D)        (None, 28, 28, 512)       1180160   \n",
            "_________________________________________________________________\n",
            "block4_conv2 (Conv2D)        (None, 28, 28, 512)       2359808   \n",
            "_________________________________________________________________\n",
            "block4_conv3 (Conv2D)        (None, 28, 28, 512)       2359808   \n",
            "_________________________________________________________________\n",
            "block4_pool (MaxPooling2D)   (None, 14, 14, 512)       0         \n",
            "_________________________________________________________________\n",
            "block5_conv1 (Conv2D)        (None, 14, 14, 512)       2359808   \n",
            "_________________________________________________________________\n",
            "block5_conv2 (Conv2D)        (None, 14, 14, 512)       2359808   \n",
            "_________________________________________________________________\n",
            "block5_conv3 (Conv2D)        (None, 14, 14, 512)       2359808   \n",
            "_________________________________________________________________\n",
            "block5_pool (MaxPooling2D)   (None, 7, 7, 512)         0         \n",
            "_________________________________________________________________\n",
            "flatten (Flatten)            (None, 25088)             0         \n",
            "_________________________________________________________________\n",
            "fc1 (Dense)                  (None, 4096)              102764544 \n",
            "_________________________________________________________________\n",
            "fc2 (Dense)                  (None, 4096)              16781312  \n",
            "_________________________________________________________________\n",
            "predictions (Dense)          (None, 2)                 8194      \n",
            "=================================================================\n",
            "Total params: 134,268,738\n",
            "Trainable params: 0\n",
            "Non-trainable params: 134,268,738\n",
            "_________________________________________________________________\n",
            "_________________________________________________________________\n",
            "Layer (type)                 Output Shape              Param #   \n",
            "=================================================================\n",
            "input_3 (InputLayer)         (None, 224, 224, 3)       0         \n",
            "_________________________________________________________________\n",
            "block1_conv1 (Conv2D)        (None, 224, 224, 64)      1792      \n",
            "_________________________________________________________________\n",
            "block1_conv2 (Conv2D)        (None, 224, 224, 64)      36928     \n",
            "_________________________________________________________________\n",
            "block1_pool (MaxPooling2D)   (None, 112, 112, 64)      0         \n",
            "_________________________________________________________________\n",
            "block2_conv1 (Conv2D)        (None, 112, 112, 128)     73856     \n",
            "_________________________________________________________________\n",
            "block2_conv2 (Conv2D)        (None, 112, 112, 128)     147584    \n",
            "_________________________________________________________________\n",
            "block2_pool (MaxPooling2D)   (None, 56, 56, 128)       0         \n",
            "_________________________________________________________________\n",
            "block3_conv1 (Conv2D)        (None, 56, 56, 256)       295168    \n",
            "_________________________________________________________________\n",
            "block3_conv2 (Conv2D)        (None, 56, 56, 256)       590080    \n",
            "_________________________________________________________________\n",
            "block3_conv3 (Conv2D)        (None, 56, 56, 256)       590080    \n",
            "_________________________________________________________________\n",
            "block3_pool (MaxPooling2D)   (None, 28, 28, 256)       0         \n",
            "_________________________________________________________________\n",
            "block4_conv1 (Conv2D)        (None, 28, 28, 512)       1180160   \n",
            "_________________________________________________________________\n",
            "block4_conv2 (Conv2D)        (None, 28, 28, 512)       2359808   \n",
            "_________________________________________________________________\n",
            "block4_conv3 (Conv2D)        (None, 28, 28, 512)       2359808   \n",
            "_________________________________________________________________\n",
            "block4_pool (MaxPooling2D)   (None, 14, 14, 512)       0         \n",
            "_________________________________________________________________\n",
            "block5_conv1 (Conv2D)        (None, 14, 14, 512)       2359808   \n",
            "_________________________________________________________________\n",
            "block5_conv2 (Conv2D)        (None, 14, 14, 512)       2359808   \n",
            "_________________________________________________________________\n",
            "block5_conv3 (Conv2D)        (None, 14, 14, 512)       2359808   \n",
            "_________________________________________________________________\n",
            "block5_pool (MaxPooling2D)   (None, 7, 7, 512)         0         \n",
            "_________________________________________________________________\n",
            "flatten (Flatten)            (None, 25088)             0         \n",
            "_________________________________________________________________\n",
            "fc1 (Dense)                  (None, 4096)              102764544 \n",
            "_________________________________________________________________\n",
            "fc2 (Dense)                  (None, 4096)              16781312  \n",
            "_________________________________________________________________\n",
            "predictions (Dense)          (None, 2)                 8194      \n",
            "=================================================================\n",
            "Total params: 134,268,738\n",
            "Trainable params: 8,194\n",
            "Non-trainable params: 134,260,544\n",
            "_________________________________________________________________\n",
            "Epoch 1/30\n",
            "36/36 [==============================] - 9s 245ms/step - loss: 0.7193 - acc: 0.4948 - val_loss: 0.7172 - val_acc: 0.5000\n",
            "Epoch 2/30\n",
            "36/36 [==============================] - 8s 228ms/step - loss: 0.6913 - acc: 0.5330 - val_loss: 0.6707 - val_acc: 0.5938\n",
            "Epoch 3/30\n",
            "36/36 [==============================] - 8s 228ms/step - loss: 0.6586 - acc: 0.6165 - val_loss: 0.6409 - val_acc: 0.6875\n",
            "Epoch 4/30\n",
            "36/36 [==============================] - 8s 228ms/step - loss: 0.6389 - acc: 0.7134 - val_loss: 0.6228 - val_acc: 0.7125\n",
            "Epoch 5/30\n",
            "36/36 [==============================] - 8s 229ms/step - loss: 0.6192 - acc: 0.7291 - val_loss: 0.6092 - val_acc: 0.7750\n",
            "Epoch 6/30\n",
            "36/36 [==============================] - 8s 227ms/step - loss: 0.6193 - acc: 0.6618 - val_loss: 0.6068 - val_acc: 0.7312\n",
            "Epoch 7/30\n",
            "36/36 [==============================] - 8s 229ms/step - loss: 0.6036 - acc: 0.6752 - val_loss: 0.5858 - val_acc: 0.7000\n",
            "Epoch 8/30\n",
            "36/36 [==============================] - 8s 227ms/step - loss: 0.5854 - acc: 0.7518 - val_loss: 0.5747 - val_acc: 0.7312\n",
            "Epoch 9/30\n",
            "36/36 [==============================] - 8s 228ms/step - loss: 0.5707 - acc: 0.7742 - val_loss: 0.5596 - val_acc: 0.8000\n",
            "Epoch 10/30\n",
            "36/36 [==============================] - 8s 228ms/step - loss: 0.5684 - acc: 0.7519 - val_loss: 0.5552 - val_acc: 0.7438\n",
            "Epoch 11/30\n",
            "36/36 [==============================] - 8s 228ms/step - loss: 0.5487 - acc: 0.7864 - val_loss: 0.5521 - val_acc: 0.7500\n",
            "Epoch 12/30\n",
            "36/36 [==============================] - 8s 227ms/step - loss: 0.5495 - acc: 0.7969 - val_loss: 0.5399 - val_acc: 0.7562\n",
            "Epoch 13/30\n",
            "36/36 [==============================] - 8s 228ms/step - loss: 0.5378 - acc: 0.8143 - val_loss: 0.5254 - val_acc: 0.7812\n",
            "Epoch 14/30\n",
            "36/36 [==============================] - 8s 227ms/step - loss: 0.5234 - acc: 0.8212 - val_loss: 0.5092 - val_acc: 0.8500\n",
            "Epoch 15/30\n",
            "36/36 [==============================] - 8s 229ms/step - loss: 0.5155 - acc: 0.8212 - val_loss: 0.5142 - val_acc: 0.8500\n",
            "Epoch 16/30\n",
            "36/36 [==============================] - 8s 228ms/step - loss: 0.5109 - acc: 0.8246 - val_loss: 0.5028 - val_acc: 0.8750\n",
            "Epoch 17/30\n",
            "36/36 [==============================] - 8s 229ms/step - loss: 0.5040 - acc: 0.8177 - val_loss: 0.4910 - val_acc: 0.8063\n",
            "Epoch 18/30\n",
            "36/36 [==============================] - 8s 228ms/step - loss: 0.4951 - acc: 0.8280 - val_loss: 0.5011 - val_acc: 0.8313\n",
            "Epoch 19/30\n",
            "36/36 [==============================] - 8s 229ms/step - loss: 0.4888 - acc: 0.8506 - val_loss: 0.4747 - val_acc: 0.8375\n",
            "Epoch 20/30\n",
            "36/36 [==============================] - 8s 228ms/step - loss: 0.4813 - acc: 0.8367 - val_loss: 0.4857 - val_acc: 0.8125\n",
            "Epoch 21/30\n",
            "36/36 [==============================] - 8s 229ms/step - loss: 0.4902 - acc: 0.8093 - val_loss: 0.4685 - val_acc: 0.8750\n",
            "Epoch 22/30\n",
            "36/36 [==============================] - 8s 227ms/step - loss: 0.4735 - acc: 0.8212 - val_loss: 0.4587 - val_acc: 0.8625\n",
            "Epoch 23/30\n",
            "36/36 [==============================] - 8s 228ms/step - loss: 0.4641 - acc: 0.8454 - val_loss: 0.4928 - val_acc: 0.8438\n",
            "Epoch 24/30\n",
            "36/36 [==============================] - 8s 228ms/step - loss: 0.4613 - acc: 0.8507 - val_loss: 0.4446 - val_acc: 0.8313\n",
            "Epoch 25/30\n",
            "36/36 [==============================] - 8s 229ms/step - loss: 0.4503 - acc: 0.8523 - val_loss: 0.4330 - val_acc: 0.8688\n",
            "Epoch 26/30\n",
            "36/36 [==============================] - 8s 228ms/step - loss: 0.4530 - acc: 0.8610 - val_loss: 0.4685 - val_acc: 0.8625\n",
            "Epoch 27/30\n",
            "36/36 [==============================] - 8s 229ms/step - loss: 0.4568 - acc: 0.8334 - val_loss: 0.4332 - val_acc: 0.8625\n",
            "Epoch 28/30\n",
            "36/36 [==============================] - 8s 227ms/step - loss: 0.4405 - acc: 0.8629 - val_loss: 0.4430 - val_acc: 0.8500\n",
            "Epoch 29/30\n",
            "36/36 [==============================] - 8s 228ms/step - loss: 0.4371 - acc: 0.8560 - val_loss: 0.4088 - val_acc: 0.8688\n",
            "Epoch 30/30\n",
            "36/36 [==============================] - 8s 228ms/step - loss: 0.4317 - acc: 0.8697 - val_loss: 0.4446 - val_acc: 0.8625\n"
          ],
          "name": "stdout"
        }
      ]
    },
    {
      "metadata": {
        "id": "9Mi4BhS1fx2l",
        "colab_type": "code",
        "outputId": "05ec04e9-ce4a-4ace-ad1d-f37613bd97fc",
        "colab": {
          "base_uri": "https://localhost:8080/",
          "height": 915
        }
      },
      "cell_type": "code",
      "source": [
        "import numpy as np \n",
        "from scipy import ndimage\n",
        "import matplotlib.pyplot as plt\n",
        "%matplotlib inline\n",
        "\n",
        "img = np.expand_dims(ndimage.imread('NN.png'),0)\n",
        "plt.inshow(img[0])"
      ],
      "execution_count": 0,
      "outputs": [
        {
          "output_type": "stream",
          "text": [
            "/usr/local/lib/python3.6/dist-packages/ipykernel_launcher.py:6: DeprecationWarning: `imread` is deprecated!\n",
            "`imread` is deprecated in SciPy 1.0.0.\n",
            "Use ``matplotlib.pyplot.imread`` instead.\n",
            "  \n"
          ],
          "name": "stderr"
        },
        {
          "output_type": "error",
          "ename": "FileNotFoundError",
          "evalue": "ignored",
          "traceback": [
            "\u001b[0;31m---------------------------------------------------------------------------\u001b[0m",
            "\u001b[0;31mFileNotFoundError\u001b[0m                         Traceback (most recent call last)",
            "\u001b[0;32m<ipython-input-9-1cff29b58a8d>\u001b[0m in \u001b[0;36m<module>\u001b[0;34m()\u001b[0m\n\u001b[1;32m      4\u001b[0m \u001b[0mget_ipython\u001b[0m\u001b[0;34m(\u001b[0m\u001b[0;34m)\u001b[0m\u001b[0;34m.\u001b[0m\u001b[0mmagic\u001b[0m\u001b[0;34m(\u001b[0m\u001b[0;34m'matplotlib inline'\u001b[0m\u001b[0;34m)\u001b[0m\u001b[0;34m\u001b[0m\u001b[0;34m\u001b[0m\u001b[0m\n\u001b[1;32m      5\u001b[0m \u001b[0;34m\u001b[0m\u001b[0m\n\u001b[0;32m----> 6\u001b[0;31m \u001b[0mimg\u001b[0m \u001b[0;34m=\u001b[0m \u001b[0mnp\u001b[0m\u001b[0;34m.\u001b[0m\u001b[0mexpand_dims\u001b[0m\u001b[0;34m(\u001b[0m\u001b[0mndimage\u001b[0m\u001b[0;34m.\u001b[0m\u001b[0mimread\u001b[0m\u001b[0;34m(\u001b[0m\u001b[0;34m'NN.png'\u001b[0m\u001b[0;34m)\u001b[0m\u001b[0;34m,\u001b[0m\u001b[0;36m0\u001b[0m\u001b[0;34m)\u001b[0m\u001b[0;34m\u001b[0m\u001b[0;34m\u001b[0m\u001b[0m\n\u001b[0m\u001b[1;32m      7\u001b[0m \u001b[0mplt\u001b[0m\u001b[0;34m.\u001b[0m\u001b[0minshow\u001b[0m\u001b[0;34m(\u001b[0m\u001b[0mimg\u001b[0m\u001b[0;34m[\u001b[0m\u001b[0;36m0\u001b[0m\u001b[0;34m]\u001b[0m\u001b[0;34m)\u001b[0m\u001b[0;34m\u001b[0m\u001b[0;34m\u001b[0m\u001b[0m\n",
            "\u001b[0;32m/usr/local/lib/python3.6/dist-packages/numpy/lib/utils.py\u001b[0m in \u001b[0;36mnewfunc\u001b[0;34m(*args, **kwds)\u001b[0m\n\u001b[1;32m     99\u001b[0m             \u001b[0;34m\"\"\"`arrayrange` is deprecated, use `arange` instead!\"\"\"\u001b[0m\u001b[0;34m\u001b[0m\u001b[0;34m\u001b[0m\u001b[0m\n\u001b[1;32m    100\u001b[0m             \u001b[0mwarnings\u001b[0m\u001b[0;34m.\u001b[0m\u001b[0mwarn\u001b[0m\u001b[0;34m(\u001b[0m\u001b[0mdepdoc\u001b[0m\u001b[0;34m,\u001b[0m \u001b[0mDeprecationWarning\u001b[0m\u001b[0;34m,\u001b[0m \u001b[0mstacklevel\u001b[0m\u001b[0;34m=\u001b[0m\u001b[0;36m2\u001b[0m\u001b[0;34m)\u001b[0m\u001b[0;34m\u001b[0m\u001b[0;34m\u001b[0m\u001b[0m\n\u001b[0;32m--> 101\u001b[0;31m             \u001b[0;32mreturn\u001b[0m \u001b[0mfunc\u001b[0m\u001b[0;34m(\u001b[0m\u001b[0;34m*\u001b[0m\u001b[0margs\u001b[0m\u001b[0;34m,\u001b[0m \u001b[0;34m**\u001b[0m\u001b[0mkwds\u001b[0m\u001b[0;34m)\u001b[0m\u001b[0;34m\u001b[0m\u001b[0;34m\u001b[0m\u001b[0m\n\u001b[0m\u001b[1;32m    102\u001b[0m \u001b[0;34m\u001b[0m\u001b[0m\n\u001b[1;32m    103\u001b[0m         \u001b[0mnewfunc\u001b[0m \u001b[0;34m=\u001b[0m \u001b[0m_set_function_name\u001b[0m\u001b[0;34m(\u001b[0m\u001b[0mnewfunc\u001b[0m\u001b[0;34m,\u001b[0m \u001b[0mold_name\u001b[0m\u001b[0;34m)\u001b[0m\u001b[0;34m\u001b[0m\u001b[0;34m\u001b[0m\u001b[0m\n",
            "\u001b[0;32m/usr/local/lib/python3.6/dist-packages/scipy/ndimage/io.py\u001b[0m in \u001b[0;36mimread\u001b[0;34m(fname, flatten, mode)\u001b[0m\n\u001b[1;32m     26\u001b[0m \u001b[0;32mdef\u001b[0m \u001b[0mimread\u001b[0m\u001b[0;34m(\u001b[0m\u001b[0mfname\u001b[0m\u001b[0;34m,\u001b[0m \u001b[0mflatten\u001b[0m\u001b[0;34m=\u001b[0m\u001b[0;32mFalse\u001b[0m\u001b[0;34m,\u001b[0m \u001b[0mmode\u001b[0m\u001b[0;34m=\u001b[0m\u001b[0;32mNone\u001b[0m\u001b[0;34m)\u001b[0m\u001b[0;34m:\u001b[0m\u001b[0;34m\u001b[0m\u001b[0;34m\u001b[0m\u001b[0m\n\u001b[1;32m     27\u001b[0m     \u001b[0;32mif\u001b[0m \u001b[0m_have_pil\u001b[0m\u001b[0;34m:\u001b[0m\u001b[0;34m\u001b[0m\u001b[0;34m\u001b[0m\u001b[0m\n\u001b[0;32m---> 28\u001b[0;31m         \u001b[0;32mreturn\u001b[0m \u001b[0m_imread\u001b[0m\u001b[0;34m(\u001b[0m\u001b[0mfname\u001b[0m\u001b[0;34m,\u001b[0m \u001b[0mflatten\u001b[0m\u001b[0;34m,\u001b[0m \u001b[0mmode\u001b[0m\u001b[0;34m)\u001b[0m\u001b[0;34m\u001b[0m\u001b[0;34m\u001b[0m\u001b[0m\n\u001b[0m\u001b[1;32m     29\u001b[0m     raise ImportError(\"Could not import the Python Imaging Library (PIL)\"\n\u001b[1;32m     30\u001b[0m                       \u001b[0;34m\" required to load image files.  Please refer to\"\u001b[0m\u001b[0;34m\u001b[0m\u001b[0;34m\u001b[0m\u001b[0m\n",
            "\u001b[0;32m/usr/local/lib/python3.6/dist-packages/numpy/lib/utils.py\u001b[0m in \u001b[0;36mnewfunc\u001b[0;34m(*args, **kwds)\u001b[0m\n\u001b[1;32m     99\u001b[0m             \u001b[0;34m\"\"\"`arrayrange` is deprecated, use `arange` instead!\"\"\"\u001b[0m\u001b[0;34m\u001b[0m\u001b[0;34m\u001b[0m\u001b[0m\n\u001b[1;32m    100\u001b[0m             \u001b[0mwarnings\u001b[0m\u001b[0;34m.\u001b[0m\u001b[0mwarn\u001b[0m\u001b[0;34m(\u001b[0m\u001b[0mdepdoc\u001b[0m\u001b[0;34m,\u001b[0m \u001b[0mDeprecationWarning\u001b[0m\u001b[0;34m,\u001b[0m \u001b[0mstacklevel\u001b[0m\u001b[0;34m=\u001b[0m\u001b[0;36m2\u001b[0m\u001b[0;34m)\u001b[0m\u001b[0;34m\u001b[0m\u001b[0;34m\u001b[0m\u001b[0m\n\u001b[0;32m--> 101\u001b[0;31m             \u001b[0;32mreturn\u001b[0m \u001b[0mfunc\u001b[0m\u001b[0;34m(\u001b[0m\u001b[0;34m*\u001b[0m\u001b[0margs\u001b[0m\u001b[0;34m,\u001b[0m \u001b[0;34m**\u001b[0m\u001b[0mkwds\u001b[0m\u001b[0;34m)\u001b[0m\u001b[0;34m\u001b[0m\u001b[0;34m\u001b[0m\u001b[0m\n\u001b[0m\u001b[1;32m    102\u001b[0m \u001b[0;34m\u001b[0m\u001b[0m\n\u001b[1;32m    103\u001b[0m         \u001b[0mnewfunc\u001b[0m \u001b[0;34m=\u001b[0m \u001b[0m_set_function_name\u001b[0m\u001b[0;34m(\u001b[0m\u001b[0mnewfunc\u001b[0m\u001b[0;34m,\u001b[0m \u001b[0mold_name\u001b[0m\u001b[0;34m)\u001b[0m\u001b[0;34m\u001b[0m\u001b[0;34m\u001b[0m\u001b[0m\n",
            "\u001b[0;32m/usr/local/lib/python3.6/dist-packages/scipy/misc/pilutil.py\u001b[0m in \u001b[0;36mimread\u001b[0;34m(name, flatten, mode)\u001b[0m\n\u001b[1;32m    162\u001b[0m     \"\"\"\n\u001b[1;32m    163\u001b[0m \u001b[0;34m\u001b[0m\u001b[0m\n\u001b[0;32m--> 164\u001b[0;31m     \u001b[0mim\u001b[0m \u001b[0;34m=\u001b[0m \u001b[0mImage\u001b[0m\u001b[0;34m.\u001b[0m\u001b[0mopen\u001b[0m\u001b[0;34m(\u001b[0m\u001b[0mname\u001b[0m\u001b[0;34m)\u001b[0m\u001b[0;34m\u001b[0m\u001b[0;34m\u001b[0m\u001b[0m\n\u001b[0m\u001b[1;32m    165\u001b[0m     \u001b[0;32mreturn\u001b[0m \u001b[0mfromimage\u001b[0m\u001b[0;34m(\u001b[0m\u001b[0mim\u001b[0m\u001b[0;34m,\u001b[0m \u001b[0mflatten\u001b[0m\u001b[0;34m=\u001b[0m\u001b[0mflatten\u001b[0m\u001b[0;34m,\u001b[0m \u001b[0mmode\u001b[0m\u001b[0;34m=\u001b[0m\u001b[0mmode\u001b[0m\u001b[0;34m)\u001b[0m\u001b[0;34m\u001b[0m\u001b[0;34m\u001b[0m\u001b[0m\n\u001b[1;32m    166\u001b[0m \u001b[0;34m\u001b[0m\u001b[0m\n",
            "\u001b[0;32m/usr/local/lib/python3.6/dist-packages/PIL/Image.py\u001b[0m in \u001b[0;36mopen\u001b[0;34m(fp, mode)\u001b[0m\n\u001b[1;32m   2310\u001b[0m \u001b[0;34m\u001b[0m\u001b[0m\n\u001b[1;32m   2311\u001b[0m     \u001b[0;32mif\u001b[0m \u001b[0mfilename\u001b[0m\u001b[0;34m:\u001b[0m\u001b[0;34m\u001b[0m\u001b[0;34m\u001b[0m\u001b[0m\n\u001b[0;32m-> 2312\u001b[0;31m         \u001b[0mfp\u001b[0m \u001b[0;34m=\u001b[0m \u001b[0mbuiltins\u001b[0m\u001b[0;34m.\u001b[0m\u001b[0mopen\u001b[0m\u001b[0;34m(\u001b[0m\u001b[0mfilename\u001b[0m\u001b[0;34m,\u001b[0m \u001b[0;34m\"rb\"\u001b[0m\u001b[0;34m)\u001b[0m\u001b[0;34m\u001b[0m\u001b[0;34m\u001b[0m\u001b[0m\n\u001b[0m\u001b[1;32m   2313\u001b[0m \u001b[0;34m\u001b[0m\u001b[0m\n\u001b[1;32m   2314\u001b[0m     \u001b[0;32mtry\u001b[0m\u001b[0;34m:\u001b[0m\u001b[0;34m\u001b[0m\u001b[0;34m\u001b[0m\u001b[0m\n",
            "\u001b[0;31mFileNotFoundError\u001b[0m: [Errno 2] No such file or directory: 'NN.png'"
          ]
        }
      ]
    },
    {
      "metadata": {
        "id": "jDse_kzAdbMV",
        "colab_type": "code",
        "outputId": "b3480705-fba6-471c-9873-f3b495c05ebb",
        "colab": {
          "base_uri": "https://localhost:8080/",
          "height": 409
        }
      },
      "cell_type": "code",
      "source": [
        "for layer in model.layers:\n",
        "    print(layer.name)"
      ],
      "execution_count": 0,
      "outputs": [
        {
          "output_type": "stream",
          "text": [
            "input_4\n",
            "block1_conv1\n",
            "block1_conv2\n",
            "block1_pool\n",
            "block2_conv1\n",
            "block2_conv2\n",
            "block2_pool\n",
            "block3_conv1\n",
            "block3_conv2\n",
            "block3_conv3\n",
            "block3_pool\n",
            "block4_conv1\n",
            "block4_conv2\n",
            "block4_conv3\n",
            "block4_pool\n",
            "block5_conv1\n",
            "block5_conv2\n",
            "block5_conv3\n",
            "block5_pool\n",
            "flatten\n",
            "fc1\n",
            "fc2\n",
            "predictions\n"
          ],
          "name": "stdout"
        }
      ]
    },
    {
      "metadata": {
        "id": "qZjcmVPnfrib",
        "colab_type": "code",
        "outputId": "94fd8e48-e340-4585-e0d9-33a0644273c3",
        "colab": {
          "base_uri": "https://localhost:8080/",
          "height": 1590
        }
      },
      "cell_type": "code",
      "source": [
        "top_layer = model.layers[1]\n",
        "print(top_layer)\n",
        "print(top_layer.get_weights())\n",
        "plt.imshow(top_layer.get_weights()[0][:, :, :, 0].squeeze(), cmap='gray')"
      ],
      "execution_count": 0,
      "outputs": [
        {
          "output_type": "stream",
          "text": [
            "<keras.layers.convolutional.Conv2D object at 0x7fbbcdd95780>\n",
            "[array([[[[ 4.29470569e-01,  1.17273867e-01,  3.40129584e-02, ...,\n",
            "          -1.32241577e-01, -5.33475243e-02,  7.57738389e-03],\n",
            "         [ 5.50379455e-01,  2.08774377e-02,  9.88311544e-02, ...,\n",
            "          -8.48205537e-02, -5.11389151e-02,  3.74943428e-02],\n",
            "         [ 4.80015397e-01, -1.72696680e-01,  3.75577137e-02, ...,\n",
            "          -1.27135560e-01, -5.02991639e-02,  3.48965675e-02]],\n",
            "\n",
            "        [[ 3.73466998e-01,  1.62062630e-01,  1.70863140e-03, ...,\n",
            "          -1.48207128e-01, -2.35300660e-01, -6.30356818e-02],\n",
            "         [ 4.40074533e-01,  4.73412387e-02,  5.13819456e-02, ...,\n",
            "          -9.88498852e-02, -2.96195745e-01, -7.04357103e-02],\n",
            "         [ 4.08547401e-01, -1.70375049e-01, -4.96297423e-03, ...,\n",
            "          -1.22360572e-01, -2.76450396e-01, -3.90796512e-02]],\n",
            "\n",
            "        [[-6.13601133e-02,  1.35693997e-01, -1.15694344e-01, ...,\n",
            "          -1.40158370e-01, -3.77666801e-01, -3.00509870e-01],\n",
            "         [-8.13870355e-02,  4.18543853e-02, -1.01763301e-01, ...,\n",
            "          -9.43124294e-02, -5.05662560e-01, -3.83694321e-01],\n",
            "         [-6.51455522e-02, -1.54351532e-01, -1.38038069e-01, ...,\n",
            "          -1.29404560e-01, -4.62243795e-01, -3.23985279e-01]]],\n",
            "\n",
            "\n",
            "       [[[ 2.74769872e-01,  1.48350164e-01,  1.61559835e-01, ...,\n",
            "          -1.14316158e-01,  3.65494519e-01,  3.39938998e-01],\n",
            "         [ 3.45739067e-01,  3.10493708e-02,  2.40750551e-01, ...,\n",
            "          -6.93419054e-02,  4.37116861e-01,  4.13171440e-01],\n",
            "         [ 3.10477257e-01, -1.87601492e-01,  1.66595340e-01, ...,\n",
            "          -9.88388434e-02,  4.04058546e-01,  3.92561197e-01]],\n",
            "\n",
            "        [[ 3.86807770e-02,  2.02298447e-01,  1.56414255e-01, ...,\n",
            "          -5.20089604e-02,  2.57149011e-01,  3.71682674e-01],\n",
            "         [ 4.06322069e-02,  6.58102185e-02,  2.20311403e-01, ...,\n",
            "          -3.78979952e-03,  2.69412428e-01,  4.09505904e-01],\n",
            "         [ 5.02023660e-02, -1.77571565e-01,  1.51188180e-01, ...,\n",
            "          -1.40649760e-02,  2.59300828e-01,  4.23764467e-01]],\n",
            "\n",
            "        [[-3.67223352e-01,  1.61688417e-01, -8.99365395e-02, ...,\n",
            "          -1.45945460e-01, -2.71823555e-01, -2.39718184e-01],\n",
            "         [-4.53501314e-01,  4.62574959e-02, -6.67438358e-02, ...,\n",
            "          -1.03502415e-01, -3.45792353e-01, -2.92486250e-01],\n",
            "         [-4.03383434e-01, -1.74399972e-01, -1.09849639e-01, ...,\n",
            "          -1.25688612e-01, -3.14026326e-01, -2.32839763e-01]]],\n",
            "\n",
            "\n",
            "       [[[-5.74681684e-02,  1.29344285e-01,  1.29030216e-02, ...,\n",
            "          -1.41449392e-01,  2.41099641e-01,  4.55602147e-02],\n",
            "         [-5.86349145e-02,  3.16787697e-02,  7.59588331e-02, ...,\n",
            "          -1.05017252e-01,  3.39550197e-01,  9.86374393e-02],\n",
            "         [-5.08716851e-02, -1.66002661e-01,  1.56279504e-02, ...,\n",
            "          -1.49742723e-01,  3.06801915e-01,  8.82701725e-02]],\n",
            "\n",
            "        [[-2.62249678e-01,  1.71572417e-01,  5.44555223e-05, ...,\n",
            "          -1.22728683e-01,  2.44687453e-01,  5.32913655e-02],\n",
            "         [-3.30669671e-01,  5.47101051e-02,  4.86797579e-02, ...,\n",
            "          -8.29023942e-02,  2.95466095e-01,  7.44469985e-02],\n",
            "         [-2.85227507e-01, -1.66666731e-01, -7.96697661e-03, ...,\n",
            "          -1.09780088e-01,  2.79203743e-01,  9.46525261e-02]],\n",
            "\n",
            "        [[-3.50096762e-01,  1.38710454e-01, -1.25339806e-01, ...,\n",
            "          -1.53092295e-01, -1.39917329e-01, -2.65075237e-01],\n",
            "         [-4.85030204e-01,  4.23195846e-02, -1.12076312e-01, ...,\n",
            "          -1.18306056e-01, -1.67058021e-01, -3.22241962e-01],\n",
            "         [-4.18516338e-01, -1.57048807e-01, -1.49133086e-01, ...,\n",
            "          -1.56839803e-01, -1.42874300e-01, -2.69694626e-01]]]],\n",
            "      dtype=float32), array([ 0.73429835,  0.09340367,  0.06775674,  0.8862966 ,  0.25994542,\n",
            "        0.66426694, -0.01582893,  0.3249065 ,  0.68600726,  0.06247932,\n",
            "        0.58156496,  0.2361475 ,  0.69694996,  0.19451167,  0.4858922 ,\n",
            "        0.44571847,  0.5113422 ,  0.208576  ,  0.57557714,  0.33199573,\n",
            "        0.4997983 ,  0.7117759 ,  0.30284074,  0.7082712 ,  0.04548979,\n",
            "        0.7446502 ,  0.29845494,  0.48211655,  0.81658626,  0.62603897,\n",
            "        0.3768093 ,  2.064037  ,  0.77311045,  0.3459577 ,  0.6130958 ,\n",
            "        0.65459156,  0.39045632,  0.50869167,  0.2625384 ,  0.23669638,\n",
            "        0.07971057,  1.1179353 ,  0.26129362,  0.8697589 ,  0.21543622,\n",
            "        0.78007823,  0.37015367,  0.47993386,  0.4313978 ,  0.5084194 ,\n",
            "        0.23049663,  0.7636527 ,  0.35419866,  0.45794216,  0.4662595 ,\n",
            "        0.09850298,  0.3803252 ,  0.66880196,  0.4015123 ,  0.90510356,\n",
            "        0.43166816,  1.302014  ,  0.5306885 ,  0.48993504], dtype=float32)]\n"
          ],
          "name": "stdout"
        },
        {
          "output_type": "error",
          "ename": "NameError",
          "evalue": "ignored",
          "traceback": [
            "\u001b[0;31m---------------------------------------------------------------------------\u001b[0m",
            "\u001b[0;31mNameError\u001b[0m                                 Traceback (most recent call last)",
            "\u001b[0;32m<ipython-input-5-b9a9d703bd8f>\u001b[0m in \u001b[0;36m<module>\u001b[0;34m()\u001b[0m\n\u001b[1;32m      2\u001b[0m \u001b[0mprint\u001b[0m\u001b[0;34m(\u001b[0m\u001b[0mtop_layer\u001b[0m\u001b[0;34m)\u001b[0m\u001b[0;34m\u001b[0m\u001b[0;34m\u001b[0m\u001b[0m\n\u001b[1;32m      3\u001b[0m \u001b[0mprint\u001b[0m\u001b[0;34m(\u001b[0m\u001b[0mtop_layer\u001b[0m\u001b[0;34m.\u001b[0m\u001b[0mget_weights\u001b[0m\u001b[0;34m(\u001b[0m\u001b[0;34m)\u001b[0m\u001b[0;34m)\u001b[0m\u001b[0;34m\u001b[0m\u001b[0;34m\u001b[0m\u001b[0m\n\u001b[0;32m----> 4\u001b[0;31m \u001b[0mplt\u001b[0m\u001b[0;34m.\u001b[0m\u001b[0mimshow\u001b[0m\u001b[0;34m(\u001b[0m\u001b[0mtop_layer\u001b[0m\u001b[0;34m.\u001b[0m\u001b[0mget_weights\u001b[0m\u001b[0;34m(\u001b[0m\u001b[0;34m)\u001b[0m\u001b[0;34m[\u001b[0m\u001b[0;36m0\u001b[0m\u001b[0;34m]\u001b[0m\u001b[0;34m[\u001b[0m\u001b[0;34m:\u001b[0m\u001b[0;34m,\u001b[0m \u001b[0;34m:\u001b[0m\u001b[0;34m,\u001b[0m \u001b[0;34m:\u001b[0m\u001b[0;34m,\u001b[0m \u001b[0;36m0\u001b[0m\u001b[0;34m]\u001b[0m\u001b[0;34m.\u001b[0m\u001b[0msqueeze\u001b[0m\u001b[0;34m(\u001b[0m\u001b[0;34m)\u001b[0m\u001b[0;34m,\u001b[0m \u001b[0mcmap\u001b[0m\u001b[0;34m=\u001b[0m\u001b[0;34m'gray'\u001b[0m\u001b[0;34m)\u001b[0m\u001b[0;34m\u001b[0m\u001b[0;34m\u001b[0m\u001b[0m\n\u001b[0m",
            "\u001b[0;31mNameError\u001b[0m: name 'plt' is not defined"
          ]
        }
      ]
    },
    {
      "metadata": {
        "id": "HE9uR10ebcjL",
        "colab_type": "code",
        "outputId": "3ffcaac9-bb25-45cf-f44d-7bca1928c582",
        "colab": {
          "base_uri": "https://localhost:8080/",
          "height": 1275
        }
      },
      "cell_type": "code",
      "source": [
        "from vis.visualization import visualize_activation\n",
        "from vis.utils import utils\n",
        "from keras import activations\n",
        "\n",
        "from matplotlib import pyplot as plt\n",
        "%matplotlib inline\n",
        "plt.rcParams['figure.figsize'] = (18, 6)\n",
        "\n",
        "# Utility to search for layer index by name.\n",
        "# Alternatively we can specify this as -1 since it corresponds to the last layer.\n",
        "layer_idx = utils.find_layer_idx(model, 'predictions')\n",
        "\n",
        "# Swap softmax with linear\n",
        "model.layers[layer_idx].activation = activations.linear\n",
        "model = utils.apply_modifications(model)\n",
        "\n",
        "# This is the output node we want to maximize.\n",
        "filter_idx = 0\n",
        "img = visualize_activation(model, layer_idx, filter_indices=filter_idx)\n",
        "plt.imshow(img[..., 0])"
      ],
      "execution_count": 0,
      "outputs": [
        {
          "output_type": "error",
          "ename": "InvalidArgumentError",
          "evalue": "ignored",
          "traceback": [
            "\u001b[0;31m---------------------------------------------------------------------------\u001b[0m",
            "\u001b[0;31mInvalidArgumentError\u001b[0m                      Traceback (most recent call last)",
            "\u001b[0;32m<ipython-input-10-60a2d15a5c2c>\u001b[0m in \u001b[0;36m<module>\u001b[0;34m()\u001b[0m\n\u001b[1;32m     17\u001b[0m \u001b[0;31m# This is the output node we want to maximize.\u001b[0m\u001b[0;34m\u001b[0m\u001b[0;34m\u001b[0m\u001b[0;34m\u001b[0m\u001b[0m\n\u001b[1;32m     18\u001b[0m \u001b[0mfilter_idx\u001b[0m \u001b[0;34m=\u001b[0m \u001b[0;36m0\u001b[0m\u001b[0;34m\u001b[0m\u001b[0;34m\u001b[0m\u001b[0m\n\u001b[0;32m---> 19\u001b[0;31m \u001b[0mimg\u001b[0m \u001b[0;34m=\u001b[0m \u001b[0mvisualize_activation\u001b[0m\u001b[0;34m(\u001b[0m\u001b[0mmodel\u001b[0m\u001b[0;34m,\u001b[0m \u001b[0mlayer_idx\u001b[0m\u001b[0;34m,\u001b[0m \u001b[0mfilter_indices\u001b[0m\u001b[0;34m=\u001b[0m\u001b[0mfilter_idx\u001b[0m\u001b[0;34m)\u001b[0m\u001b[0;34m\u001b[0m\u001b[0;34m\u001b[0m\u001b[0m\n\u001b[0m\u001b[1;32m     20\u001b[0m \u001b[0mplt\u001b[0m\u001b[0;34m.\u001b[0m\u001b[0mimshow\u001b[0m\u001b[0;34m(\u001b[0m\u001b[0mimg\u001b[0m\u001b[0;34m[\u001b[0m\u001b[0;34m...\u001b[0m\u001b[0;34m,\u001b[0m \u001b[0;36m0\u001b[0m\u001b[0;34m]\u001b[0m\u001b[0;34m)\u001b[0m\u001b[0;34m\u001b[0m\u001b[0;34m\u001b[0m\u001b[0m\n",
            "\u001b[0;32m/usr/local/lib/python3.6/dist-packages/vis/visualization/activation_maximization.py\u001b[0m in \u001b[0;36mvisualize_activation\u001b[0;34m(model, layer_idx, filter_indices, seed_input, input_range, backprop_modifier, grad_modifier, act_max_weight, lp_norm_weight, tv_weight, **optimizer_params)\u001b[0m\n\u001b[1;32m    105\u001b[0m     }, **optimizer_params)\n\u001b[1;32m    106\u001b[0m \u001b[0;34m\u001b[0m\u001b[0m\n\u001b[0;32m--> 107\u001b[0;31m     \u001b[0;32mreturn\u001b[0m \u001b[0mvisualize_activation_with_losses\u001b[0m\u001b[0;34m(\u001b[0m\u001b[0mmodel\u001b[0m\u001b[0;34m.\u001b[0m\u001b[0minput\u001b[0m\u001b[0;34m,\u001b[0m \u001b[0mlosses\u001b[0m\u001b[0;34m,\u001b[0m \u001b[0mseed_input\u001b[0m\u001b[0;34m,\u001b[0m \u001b[0minput_range\u001b[0m\u001b[0;34m,\u001b[0m \u001b[0;34m**\u001b[0m\u001b[0moptimizer_params\u001b[0m\u001b[0;34m)\u001b[0m\u001b[0;34m\u001b[0m\u001b[0;34m\u001b[0m\u001b[0m\n\u001b[0m",
            "\u001b[0;32m/usr/local/lib/python3.6/dist-packages/vis/visualization/activation_maximization.py\u001b[0m in \u001b[0;36mvisualize_activation_with_losses\u001b[0;34m(input_tensor, losses, seed_input, input_range, **optimizer_params)\u001b[0m\n\u001b[1;32m     39\u001b[0m \u001b[0;34m\u001b[0m\u001b[0m\n\u001b[1;32m     40\u001b[0m     \u001b[0mopt\u001b[0m \u001b[0;34m=\u001b[0m \u001b[0mOptimizer\u001b[0m\u001b[0;34m(\u001b[0m\u001b[0minput_tensor\u001b[0m\u001b[0;34m,\u001b[0m \u001b[0mlosses\u001b[0m\u001b[0;34m,\u001b[0m \u001b[0minput_range\u001b[0m\u001b[0;34m)\u001b[0m\u001b[0;34m\u001b[0m\u001b[0;34m\u001b[0m\u001b[0m\n\u001b[0;32m---> 41\u001b[0;31m     \u001b[0mimg\u001b[0m \u001b[0;34m=\u001b[0m \u001b[0mopt\u001b[0m\u001b[0;34m.\u001b[0m\u001b[0mminimize\u001b[0m\u001b[0;34m(\u001b[0m\u001b[0;34m**\u001b[0m\u001b[0moptimizer_params\u001b[0m\u001b[0;34m)\u001b[0m\u001b[0;34m[\u001b[0m\u001b[0;36m0\u001b[0m\u001b[0;34m]\u001b[0m\u001b[0;34m\u001b[0m\u001b[0;34m\u001b[0m\u001b[0m\n\u001b[0m\u001b[1;32m     42\u001b[0m \u001b[0;34m\u001b[0m\u001b[0m\n\u001b[1;32m     43\u001b[0m     \u001b[0;31m# If range has integer numbers, cast to 'uint8'\u001b[0m\u001b[0;34m\u001b[0m\u001b[0;34m\u001b[0m\u001b[0;34m\u001b[0m\u001b[0m\n",
            "\u001b[0;32m/usr/local/lib/python3.6/dist-packages/vis/optimizer.py\u001b[0m in \u001b[0;36mminimize\u001b[0;34m(self, seed_input, max_iter, input_modifiers, grad_modifier, callbacks, verbose)\u001b[0m\n\u001b[1;32m    141\u001b[0m \u001b[0;34m\u001b[0m\u001b[0m\n\u001b[1;32m    142\u001b[0m             \u001b[0;31m# 0 learning phase for 'test'\u001b[0m\u001b[0;34m\u001b[0m\u001b[0;34m\u001b[0m\u001b[0;34m\u001b[0m\u001b[0m\n\u001b[0;32m--> 143\u001b[0;31m             \u001b[0mcomputed_values\u001b[0m \u001b[0;34m=\u001b[0m \u001b[0mself\u001b[0m\u001b[0;34m.\u001b[0m\u001b[0mcompute_fn\u001b[0m\u001b[0;34m(\u001b[0m\u001b[0;34m[\u001b[0m\u001b[0mseed_input\u001b[0m\u001b[0;34m,\u001b[0m \u001b[0;36m0\u001b[0m\u001b[0;34m]\u001b[0m\u001b[0;34m)\u001b[0m\u001b[0;34m\u001b[0m\u001b[0;34m\u001b[0m\u001b[0m\n\u001b[0m\u001b[1;32m    144\u001b[0m             \u001b[0mlosses\u001b[0m \u001b[0;34m=\u001b[0m \u001b[0mcomputed_values\u001b[0m\u001b[0;34m[\u001b[0m\u001b[0;34m:\u001b[0m\u001b[0mlen\u001b[0m\u001b[0;34m(\u001b[0m\u001b[0mself\u001b[0m\u001b[0;34m.\u001b[0m\u001b[0mloss_names\u001b[0m\u001b[0;34m)\u001b[0m\u001b[0;34m]\u001b[0m\u001b[0;34m\u001b[0m\u001b[0;34m\u001b[0m\u001b[0m\n\u001b[1;32m    145\u001b[0m             \u001b[0mnamed_losses\u001b[0m \u001b[0;34m=\u001b[0m \u001b[0mzip\u001b[0m\u001b[0;34m(\u001b[0m\u001b[0mself\u001b[0m\u001b[0;34m.\u001b[0m\u001b[0mloss_names\u001b[0m\u001b[0;34m,\u001b[0m \u001b[0mlosses\u001b[0m\u001b[0;34m)\u001b[0m\u001b[0;34m\u001b[0m\u001b[0;34m\u001b[0m\u001b[0m\n",
            "\u001b[0;32m/usr/local/lib/python3.6/dist-packages/keras/backend/tensorflow_backend.py\u001b[0m in \u001b[0;36m__call__\u001b[0;34m(self, inputs)\u001b[0m\n\u001b[1;32m   2713\u001b[0m                 \u001b[0;32mreturn\u001b[0m \u001b[0mself\u001b[0m\u001b[0;34m.\u001b[0m\u001b[0m_legacy_call\u001b[0m\u001b[0;34m(\u001b[0m\u001b[0minputs\u001b[0m\u001b[0;34m)\u001b[0m\u001b[0;34m\u001b[0m\u001b[0;34m\u001b[0m\u001b[0m\n\u001b[1;32m   2714\u001b[0m \u001b[0;34m\u001b[0m\u001b[0m\n\u001b[0;32m-> 2715\u001b[0;31m             \u001b[0;32mreturn\u001b[0m \u001b[0mself\u001b[0m\u001b[0;34m.\u001b[0m\u001b[0m_call\u001b[0m\u001b[0;34m(\u001b[0m\u001b[0minputs\u001b[0m\u001b[0;34m)\u001b[0m\u001b[0;34m\u001b[0m\u001b[0;34m\u001b[0m\u001b[0m\n\u001b[0m\u001b[1;32m   2716\u001b[0m         \u001b[0;32melse\u001b[0m\u001b[0;34m:\u001b[0m\u001b[0;34m\u001b[0m\u001b[0;34m\u001b[0m\u001b[0m\n\u001b[1;32m   2717\u001b[0m             \u001b[0;32mif\u001b[0m \u001b[0mpy_any\u001b[0m\u001b[0;34m(\u001b[0m\u001b[0mis_tensor\u001b[0m\u001b[0;34m(\u001b[0m\u001b[0mx\u001b[0m\u001b[0;34m)\u001b[0m \u001b[0;32mfor\u001b[0m \u001b[0mx\u001b[0m \u001b[0;32min\u001b[0m \u001b[0minputs\u001b[0m\u001b[0;34m)\u001b[0m\u001b[0;34m:\u001b[0m\u001b[0;34m\u001b[0m\u001b[0;34m\u001b[0m\u001b[0m\n",
            "\u001b[0;32m/usr/local/lib/python3.6/dist-packages/keras/backend/tensorflow_backend.py\u001b[0m in \u001b[0;36m_call\u001b[0;34m(self, inputs)\u001b[0m\n\u001b[1;32m   2669\u001b[0m                                 \u001b[0mfeed_symbols\u001b[0m\u001b[0;34m,\u001b[0m\u001b[0;34m\u001b[0m\u001b[0;34m\u001b[0m\u001b[0m\n\u001b[1;32m   2670\u001b[0m                                 \u001b[0msymbol_vals\u001b[0m\u001b[0;34m,\u001b[0m\u001b[0;34m\u001b[0m\u001b[0;34m\u001b[0m\u001b[0m\n\u001b[0;32m-> 2671\u001b[0;31m                                 session)\n\u001b[0m\u001b[1;32m   2672\u001b[0m         \u001b[0;32mif\u001b[0m \u001b[0mself\u001b[0m\u001b[0;34m.\u001b[0m\u001b[0mrun_metadata\u001b[0m\u001b[0;34m:\u001b[0m\u001b[0;34m\u001b[0m\u001b[0;34m\u001b[0m\u001b[0m\n\u001b[1;32m   2673\u001b[0m             \u001b[0mfetched\u001b[0m \u001b[0;34m=\u001b[0m \u001b[0mself\u001b[0m\u001b[0;34m.\u001b[0m\u001b[0m_callable_fn\u001b[0m\u001b[0;34m(\u001b[0m\u001b[0;34m*\u001b[0m\u001b[0marray_vals\u001b[0m\u001b[0;34m,\u001b[0m \u001b[0mrun_metadata\u001b[0m\u001b[0;34m=\u001b[0m\u001b[0mself\u001b[0m\u001b[0;34m.\u001b[0m\u001b[0mrun_metadata\u001b[0m\u001b[0;34m)\u001b[0m\u001b[0;34m\u001b[0m\u001b[0;34m\u001b[0m\u001b[0m\n",
            "\u001b[0;32m/usr/local/lib/python3.6/dist-packages/keras/backend/tensorflow_backend.py\u001b[0m in \u001b[0;36m_make_callable\u001b[0;34m(self, feed_arrays, feed_symbols, symbol_vals, session)\u001b[0m\n\u001b[1;32m   2621\u001b[0m             \u001b[0mcallable_opts\u001b[0m\u001b[0;34m.\u001b[0m\u001b[0mrun_options\u001b[0m\u001b[0;34m.\u001b[0m\u001b[0mCopyFrom\u001b[0m\u001b[0;34m(\u001b[0m\u001b[0mself\u001b[0m\u001b[0;34m.\u001b[0m\u001b[0mrun_options\u001b[0m\u001b[0;34m)\u001b[0m\u001b[0;34m\u001b[0m\u001b[0;34m\u001b[0m\u001b[0m\n\u001b[1;32m   2622\u001b[0m         \u001b[0;31m# Create callable.\u001b[0m\u001b[0;34m\u001b[0m\u001b[0;34m\u001b[0m\u001b[0;34m\u001b[0m\u001b[0m\n\u001b[0;32m-> 2623\u001b[0;31m         \u001b[0mcallable_fn\u001b[0m \u001b[0;34m=\u001b[0m \u001b[0msession\u001b[0m\u001b[0;34m.\u001b[0m\u001b[0m_make_callable_from_options\u001b[0m\u001b[0;34m(\u001b[0m\u001b[0mcallable_opts\u001b[0m\u001b[0;34m)\u001b[0m\u001b[0;34m\u001b[0m\u001b[0;34m\u001b[0m\u001b[0m\n\u001b[0m\u001b[1;32m   2624\u001b[0m         \u001b[0;31m# Cache parameters corresponding to the generated callable, so that\u001b[0m\u001b[0;34m\u001b[0m\u001b[0;34m\u001b[0m\u001b[0;34m\u001b[0m\u001b[0m\n\u001b[1;32m   2625\u001b[0m         \u001b[0;31m# we can detect future mismatches and refresh the callable.\u001b[0m\u001b[0;34m\u001b[0m\u001b[0;34m\u001b[0m\u001b[0;34m\u001b[0m\u001b[0m\n",
            "\u001b[0;32m/usr/local/lib/python3.6/dist-packages/tensorflow/python/client/session.py\u001b[0m in \u001b[0;36m_make_callable_from_options\u001b[0;34m(self, callable_options)\u001b[0m\n\u001b[1;32m   1469\u001b[0m     \"\"\"\n\u001b[1;32m   1470\u001b[0m     \u001b[0mself\u001b[0m\u001b[0;34m.\u001b[0m\u001b[0m_extend_graph\u001b[0m\u001b[0;34m(\u001b[0m\u001b[0;34m)\u001b[0m\u001b[0;34m\u001b[0m\u001b[0;34m\u001b[0m\u001b[0m\n\u001b[0;32m-> 1471\u001b[0;31m     \u001b[0;32mreturn\u001b[0m \u001b[0mBaseSession\u001b[0m\u001b[0;34m.\u001b[0m\u001b[0m_Callable\u001b[0m\u001b[0;34m(\u001b[0m\u001b[0mself\u001b[0m\u001b[0;34m,\u001b[0m \u001b[0mcallable_options\u001b[0m\u001b[0;34m)\u001b[0m\u001b[0;34m\u001b[0m\u001b[0;34m\u001b[0m\u001b[0m\n\u001b[0m\u001b[1;32m   1472\u001b[0m \u001b[0;34m\u001b[0m\u001b[0m\n\u001b[1;32m   1473\u001b[0m \u001b[0;34m\u001b[0m\u001b[0m\n",
            "\u001b[0;32m/usr/local/lib/python3.6/dist-packages/tensorflow/python/client/session.py\u001b[0m in \u001b[0;36m__init__\u001b[0;34m(self, session, callable_options)\u001b[0m\n\u001b[1;32m   1423\u001b[0m         \u001b[0;32mwith\u001b[0m \u001b[0merrors\u001b[0m\u001b[0;34m.\u001b[0m\u001b[0mraise_exception_on_not_ok_status\u001b[0m\u001b[0;34m(\u001b[0m\u001b[0;34m)\u001b[0m \u001b[0;32mas\u001b[0m \u001b[0mstatus\u001b[0m\u001b[0;34m:\u001b[0m\u001b[0;34m\u001b[0m\u001b[0;34m\u001b[0m\u001b[0m\n\u001b[1;32m   1424\u001b[0m           self._handle = tf_session.TF_SessionMakeCallable(\n\u001b[0;32m-> 1425\u001b[0;31m               session._session, options_ptr, status)\n\u001b[0m\u001b[1;32m   1426\u001b[0m       \u001b[0;32mfinally\u001b[0m\u001b[0;34m:\u001b[0m\u001b[0;34m\u001b[0m\u001b[0;34m\u001b[0m\u001b[0m\n\u001b[1;32m   1427\u001b[0m         \u001b[0mtf_session\u001b[0m\u001b[0;34m.\u001b[0m\u001b[0mTF_DeleteBuffer\u001b[0m\u001b[0;34m(\u001b[0m\u001b[0moptions_ptr\u001b[0m\u001b[0;34m)\u001b[0m\u001b[0;34m\u001b[0m\u001b[0;34m\u001b[0m\u001b[0m\n",
            "\u001b[0;32m/usr/local/lib/python3.6/dist-packages/tensorflow/python/framework/errors_impl.py\u001b[0m in \u001b[0;36m__exit__\u001b[0;34m(self, type_arg, value_arg, traceback_arg)\u001b[0m\n\u001b[1;32m    526\u001b[0m             \u001b[0;32mNone\u001b[0m\u001b[0;34m,\u001b[0m \u001b[0;32mNone\u001b[0m\u001b[0;34m,\u001b[0m\u001b[0;34m\u001b[0m\u001b[0;34m\u001b[0m\u001b[0m\n\u001b[1;32m    527\u001b[0m             \u001b[0mcompat\u001b[0m\u001b[0;34m.\u001b[0m\u001b[0mas_text\u001b[0m\u001b[0;34m(\u001b[0m\u001b[0mc_api\u001b[0m\u001b[0;34m.\u001b[0m\u001b[0mTF_Message\u001b[0m\u001b[0;34m(\u001b[0m\u001b[0mself\u001b[0m\u001b[0;34m.\u001b[0m\u001b[0mstatus\u001b[0m\u001b[0;34m.\u001b[0m\u001b[0mstatus\u001b[0m\u001b[0;34m)\u001b[0m\u001b[0;34m)\u001b[0m\u001b[0;34m,\u001b[0m\u001b[0;34m\u001b[0m\u001b[0;34m\u001b[0m\u001b[0m\n\u001b[0;32m--> 528\u001b[0;31m             c_api.TF_GetCode(self.status.status))\n\u001b[0m\u001b[1;32m    529\u001b[0m     \u001b[0;31m# Delete the underlying status object from memory otherwise it stays alive\u001b[0m\u001b[0;34m\u001b[0m\u001b[0;34m\u001b[0m\u001b[0;34m\u001b[0m\u001b[0m\n\u001b[1;32m    530\u001b[0m     \u001b[0;31m# as there is a reference to status from this from the traceback due to\u001b[0m\u001b[0;34m\u001b[0m\u001b[0;34m\u001b[0m\u001b[0;34m\u001b[0m\u001b[0m\n",
            "\u001b[0;31mInvalidArgumentError\u001b[0m: input_4_1:0 is both fed and fetched."
          ]
        }
      ]
    },
    {
      "metadata": {
        "id": "9RYIJP0lFmwy",
        "colab_type": "code",
        "colab": {}
      },
      "cell_type": "code",
      "source": [
        "import matplotlib.pyplot as plt\n",
        "import itertools\n",
        "\n",
        "\n",
        "def plot_confusion_matrix(cm, classes,\n",
        "                          normalize=False,\n",
        "                          title='Confusion matrix',\n",
        "                          cmap=plt.cm.Blues):\n",
        "    \"\"\"\n",
        "    This function prints and plots the confusion matrix.\n",
        "    Normalization can be applied by setting `normalize=True`.\n",
        "    \"\"\"\n",
        "    if normalize:\n",
        "        cm = cm.astype('float') / cm.sum(axis=1)[:, np.newaxis]\n",
        "        print(\"Normalized confusion matrix\")\n",
        "    else:\n",
        "        print('Confusion matrix, CNN VGG architecture')\n",
        "\n",
        "    print(cm)\n",
        "\n",
        "    plt.imshow(cm, interpolation='nearest', cmap=cmap)\n",
        "    plt.title(title)\n",
        "    plt.colorbar()\n",
        "    tick_marks = np.arange(len(classes))\n",
        "    plt.xticks(tick_marks, classes, rotation=45)\n",
        "    plt.yticks(tick_marks, classes)\n",
        "\n",
        "    fmt = '.2f' if normalize else 'd'\n",
        "    thresh = cm.max() / 4.\n",
        "    for i, j in itertools.product(range(cm.shape[0]), range(cm.shape[1])):\n",
        "        plt.text(j, i, format(cm[i, j], fmt),\n",
        "                 horizontalalignment=\"center\",\n",
        "                 color=\"black\" if cm[i, j] > thresh else \"white\")\n",
        "\n",
        "    plt.ylabel('True label')\n",
        "    plt.xlabel('Predicted label')\n",
        "    plt.tight_layout()\n"
      ],
      "execution_count": 0,
      "outputs": []
    },
    {
      "metadata": {
        "id": "lkQR50OjJKUx",
        "colab_type": "text"
      },
      "cell_type": "markdown",
      "source": [
        "# ***Visualizing Nisarg_CNN LOSS***\n",
        "\n",
        "\n"
      ]
    },
    {
      "metadata": {
        "id": "yxdkR40pJGTd",
        "colab_type": "code",
        "outputId": "86704a0b-425d-4035-e18b-ff863b82cc41",
        "colab": {
          "base_uri": "https://localhost:8080/",
          "height": 376
        }
      },
      "cell_type": "code",
      "source": [
        "\n",
        "import matplotlib.pyplot as plt\n",
        "loss = history.history['loss']\n",
        "val_loss = history.history['val_loss']\n",
        "epochs = range(1, len(loss) + 1)\n",
        "plt.plot(epochs, loss, color='red', label='Training loss')\n",
        "plt.plot(epochs, val_loss, color='green', label='Validation loss')\n",
        "plt.title('Training and validation loss')\n",
        "plt.xlabel('Epochs')\n",
        "plt.ylabel('Loss')\n",
        "plt.legend()\n",
        "plt.show()\n"
      ],
      "execution_count": 0,
      "outputs": [
        {
          "output_type": "display_data",
          "data": {
            "image/png": "[encoded data removed]",
            "text/plain": [
              "<matplotlib.figure.Figure at 0x7f0b40bae8d0>"
            ]
          },
          "metadata": {
            "tags": []
          }
        }
      ]
    },
    {
      "metadata": {
        "id": "OwvtDTRD3Vst",
        "colab_type": "code",
        "colab": {}
      },
      "cell_type": "code",
      "source": [
        "from keras.utils import plot_model\n",
        "plot_model(model, to_file='gdrive/My Drive/Colab Notebooks/visualize_model.png')\n"
      ],
      "execution_count": 0,
      "outputs": []
    },
    {
      "metadata": {
        "id": "jUP0gxgqQD_7",
        "colab_type": "text"
      },
      "cell_type": "markdown",
      "source": [
        "# ***Visualizing Nisarg_CNN Acc ***\n",
        "\n",
        "\n",
        "\n"
      ]
    },
    {
      "metadata": {
        "id": "jBOeH0cYQjoh",
        "colab_type": "code",
        "outputId": "342e9cf5-0d48-470d-c420-65bd7bc31e46",
        "colab": {
          "base_uri": "https://localhost:8080/",
          "height": 376
        }
      },
      "cell_type": "code",
      "source": [
        "acc = history.history['acc']\n",
        "val_acc = history.history['val_acc']\n",
        "plt.plot(epochs, acc, color='red', label='Training acc')\n",
        "plt.plot(epochs, val_acc, color='green', label='Validation acc')\n",
        "plt.title('Training and validation accuracy')\n",
        "plt.xlabel('Epochs')\n",
        "plt.ylabel('Loss')\n",
        "plt.legend()\n",
        "plt.show()"
      ],
      "execution_count": 0,
      "outputs": [
        {
          "output_type": "display_data",
          "data": {
            "image/png": "[encoded data removed]",
            "text/plain": [
              "<matplotlib.figure.Figure at 0x7f0b40baecf8>"
            ]
          },
          "metadata": {
            "tags": []
          }
        }
      ]
    },
    {
      "metadata": {
        "id": "QvBJ2huzTVKd",
        "colab_type": "text"
      },
      "cell_type": "markdown",
      "source": [
        "# **Visualize Nisarg_CNN Layers**"
      ]
    },
    {
      "metadata": {
        "id": "VOK6JZK7TUbW",
        "colab_type": "code",
        "outputId": "b4d72a54-5a6c-48af-bf62-613b0b48acfc",
        "colab": {
          "base_uri": "https://localhost:8080/",
          "height": 239
        }
      },
      "cell_type": "code",
      "source": [
        "from keras.models import Model\n",
        "from keras.models import load_model\n",
        "from keras.preprocessing import image\n",
        "import os\n",
        "import glob\n",
        "\n",
        "x = []\n",
        "train_path = 'gdrive/My Drive/Colab Notebooks/User 2'\n",
        "train_labels = os.listdir(train_path)\n",
        "for i,label in enumerate(train_labels):\n",
        "  cur_path = train_path + \"/\" + label\n",
        "  count = 1\n",
        "  for image_path in glob.glob(cur_path+\"/*.png\"):\n",
        "    img = image.load_img(image_path,target_size = image_size)\n",
        "    x1 = image.img_to_array(img)\n",
        "    x1 = np.array(x1)\n",
        "    x.append(x1)\n",
        "#model = load_model('gdrive/My Drive/Colab Notebooks/signature_model_50epochs.h5')\n",
        "layer_outputs = [layer.output for layer in model.layers]\n",
        "activation_model = Model(inputs=model.input, outputs=layer_outputs)\n",
        "activations = activation_model.predict(x[0].reshape(1,28,28,1))\n",
        " \n",
        "def display_activation(activations, col_size, row_size, act_index): \n",
        "    activation = activations[act_index]\n",
        "    activation_index=0\n",
        "    fig, ax = plt.subplots(row_size, col_size, figsize=(row_size*2.5,col_size*1.5))\n",
        "    for row in range(0,row_size):\n",
        "        for col in range(0,col_size):\n",
        "            ax[row][col].imshow(activation[0, :, :, activation_index], cmap='gray')\n",
        "            activation_index += 1"
      ],
      "execution_count": 0,
      "outputs": [
        {
          "output_type": "error",
          "ename": "ValueError",
          "evalue": "ignored",
          "traceback": [
            "\u001b[0;31m---------------------------------------------------------------------------\u001b[0m",
            "\u001b[0;31mValueError\u001b[0m                                Traceback (most recent call last)",
            "\u001b[0;32m<ipython-input-30-3fea33273328>\u001b[0m in \u001b[0;36m<module>\u001b[0;34m()\u001b[0m\n\u001b[1;32m     19\u001b[0m \u001b[0mlayer_outputs\u001b[0m \u001b[0;34m=\u001b[0m \u001b[0;34m[\u001b[0m\u001b[0mlayer\u001b[0m\u001b[0;34m.\u001b[0m\u001b[0moutput\u001b[0m \u001b[0;32mfor\u001b[0m \u001b[0mlayer\u001b[0m \u001b[0;32min\u001b[0m \u001b[0mmodel\u001b[0m\u001b[0;34m.\u001b[0m\u001b[0mlayers\u001b[0m\u001b[0;34m]\u001b[0m\u001b[0;34m\u001b[0m\u001b[0;34m\u001b[0m\u001b[0m\n\u001b[1;32m     20\u001b[0m \u001b[0mactivation_model\u001b[0m \u001b[0;34m=\u001b[0m \u001b[0mModel\u001b[0m\u001b[0;34m(\u001b[0m\u001b[0minputs\u001b[0m\u001b[0;34m=\u001b[0m\u001b[0mmodel\u001b[0m\u001b[0;34m.\u001b[0m\u001b[0minput\u001b[0m\u001b[0;34m,\u001b[0m \u001b[0moutputs\u001b[0m\u001b[0;34m=\u001b[0m\u001b[0mlayer_outputs\u001b[0m\u001b[0;34m)\u001b[0m\u001b[0;34m\u001b[0m\u001b[0;34m\u001b[0m\u001b[0m\n\u001b[0;32m---> 21\u001b[0;31m \u001b[0mactivations\u001b[0m \u001b[0;34m=\u001b[0m \u001b[0mactivation_model\u001b[0m\u001b[0;34m.\u001b[0m\u001b[0mpredict\u001b[0m\u001b[0;34m(\u001b[0m\u001b[0mx\u001b[0m\u001b[0;34m[\u001b[0m\u001b[0;36m0\u001b[0m\u001b[0;34m]\u001b[0m\u001b[0;34m.\u001b[0m\u001b[0mreshape\u001b[0m\u001b[0;34m(\u001b[0m\u001b[0;36m1\u001b[0m\u001b[0;34m,\u001b[0m\u001b[0;36m28\u001b[0m\u001b[0;34m,\u001b[0m\u001b[0;36m28\u001b[0m\u001b[0;34m,\u001b[0m\u001b[0;36m1\u001b[0m\u001b[0;34m)\u001b[0m\u001b[0;34m)\u001b[0m\u001b[0;34m\u001b[0m\u001b[0;34m\u001b[0m\u001b[0m\n\u001b[0m\u001b[1;32m     22\u001b[0m \u001b[0;34m\u001b[0m\u001b[0m\n\u001b[1;32m     23\u001b[0m \u001b[0;32mdef\u001b[0m \u001b[0mdisplay_activation\u001b[0m\u001b[0;34m(\u001b[0m\u001b[0mactivations\u001b[0m\u001b[0;34m,\u001b[0m \u001b[0mcol_size\u001b[0m\u001b[0;34m,\u001b[0m \u001b[0mrow_size\u001b[0m\u001b[0;34m,\u001b[0m \u001b[0mact_index\u001b[0m\u001b[0;34m)\u001b[0m\u001b[0;34m:\u001b[0m\u001b[0;34m\u001b[0m\u001b[0;34m\u001b[0m\u001b[0m\n",
            "\u001b[0;31mValueError\u001b[0m: cannot reshape array of size 150528 into shape (1,28,28,1)"
          ]
        }
      ]
    },
    {
      "metadata": {
        "id": "vj42qxOxaGHl",
        "colab_type": "text"
      },
      "cell_type": "markdown",
      "source": [
        "# **k-Fold Validation CNN**"
      ]
    },
    {
      "metadata": {
        "id": "vtovxAA7aFei",
        "colab_type": "code",
        "outputId": "9b6e46ce-64ab-45e3-c80a-7e43593320f1",
        "colab": {
          "base_uri": "https://localhost:8080/",
          "height": 231
        }
      },
      "cell_type": "code",
      "source": [
        "from keras.models import Sequential\n",
        "from keras.layers import Dense\n",
        "from sklearn.model_selection import StratifiedKFold\n",
        "import numpy\n",
        "from sklearn.preprocessing import LabelEncoder\n",
        "import os\n",
        "import glob\n",
        "\n",
        "# fix random seed for reproducibility\n",
        "seed = 7\n",
        "numpy.random.seed(seed)\n",
        "\n",
        "#train_batches = ImageDataGenerator(rescale = 1./255).flow_from_directory(train_path,target_size=(224,224),classes=['real','forge'])\n",
        "#print(train_batches)\n",
        "\n",
        "\n",
        "\n",
        "train_path = 'gdrive/My Drive/Training'\n",
        "train_labels = os.listdir(train_path)\n",
        "le = LabelEncoder()\n",
        "le.fit([tl for tl in train_labels])\n",
        "labels = []\n",
        "image_size = (224,224)\n",
        "X\n",
        "for i,label in enumerate(train_labels):\n",
        "  cur_path = train_path + \"/\" + label\n",
        "  count = 1\n",
        "  for image_path in glob.glob(cur_path+\"/*.png\"):\n",
        "    img = image.load_img(image_path,target_size = image_size)\n",
        "    x = image.img_to_array(img)\n",
        "    x = np.expand_dims(x, axis=0)\n",
        "    #x = np.array(x)\n",
        "    x.tolist()\n",
        "    X.append(x)\n",
        "    labels.append(label)\n",
        "\n",
        "le = LabelEncoder()\n",
        "le_labels = le.fit_transform(labels) \n",
        "print(X)\n",
        "    \n",
        "Y=le_labels\n",
        "print(Y)\n",
        "# load pima indians dataset\n",
        "#dataset = numpy.loadtxt(\"pima-indians-diabetes.csv\", delimiter=\",\")\n",
        "# split into input (X) and output (Y) variables\n",
        "#X = dataset[:,0:8]\n",
        "#Y = dataset[:,8]\n",
        "# define 10-fold cross validation test harness\n",
        "kfold = StratifiedKFold(n_splits=10, shuffle=True, random_state=seed)\n",
        "cvscores = []\n",
        "for train, test in kfold.split(X, Y):\n",
        "  # create model\n",
        "\t# Compile model\n",
        "\tmodel.compile(loss='binary_crossentropy', optimizer='adam', metrics=['accuracy'])\n",
        "\t# Fit the model\n",
        "\tmodel.fit(X[train], Y[train], epochs=150, batch_size=10, verbose=0)\n",
        "\t# evaluate the model\n",
        "\tscores = model.evaluate(X[test], Y[test], verbose=0)\n",
        "\tprint(\"%s: %.2f%%\" % (model.metrics_names[1], scores[1]*100))\n",
        "\tcvscores.append(scores[1] * 100)\n",
        "print(\"%.2f%% (+/- %.2f%%)\" % (numpy.mean(cvscores), numpy.std(cvscores)))"
      ],
      "execution_count": 0,
      "outputs": [
        {
          "output_type": "error",
          "ename": "NameError",
          "evalue": "ignored",
          "traceback": [
            "\u001b[0;31m---------------------------------------------------------------------------\u001b[0m",
            "\u001b[0;31mNameError\u001b[0m                                 Traceback (most recent call last)",
            "\u001b[0;32m<ipython-input-5-e41113d5d68b>\u001b[0m in \u001b[0;36m<module>\u001b[0;34m()\u001b[0m\n\u001b[1;32m     22\u001b[0m \u001b[0mlabels\u001b[0m \u001b[0;34m=\u001b[0m \u001b[0;34m[\u001b[0m\u001b[0;34m]\u001b[0m\u001b[0;34m\u001b[0m\u001b[0;34m\u001b[0m\u001b[0m\n\u001b[1;32m     23\u001b[0m \u001b[0mimage_size\u001b[0m \u001b[0;34m=\u001b[0m \u001b[0;34m(\u001b[0m\u001b[0;36m224\u001b[0m\u001b[0;34m,\u001b[0m\u001b[0;36m224\u001b[0m\u001b[0;34m)\u001b[0m\u001b[0;34m\u001b[0m\u001b[0;34m\u001b[0m\u001b[0m\n\u001b[0;32m---> 24\u001b[0;31m \u001b[0mX\u001b[0m\u001b[0;34m\u001b[0m\u001b[0;34m\u001b[0m\u001b[0m\n\u001b[0m\u001b[1;32m     25\u001b[0m \u001b[0;32mfor\u001b[0m \u001b[0mi\u001b[0m\u001b[0;34m,\u001b[0m\u001b[0mlabel\u001b[0m \u001b[0;32min\u001b[0m \u001b[0menumerate\u001b[0m\u001b[0;34m(\u001b[0m\u001b[0mtrain_labels\u001b[0m\u001b[0;34m)\u001b[0m\u001b[0;34m:\u001b[0m\u001b[0;34m\u001b[0m\u001b[0;34m\u001b[0m\u001b[0m\n\u001b[1;32m     26\u001b[0m   \u001b[0mcur_path\u001b[0m \u001b[0;34m=\u001b[0m \u001b[0mtrain_path\u001b[0m \u001b[0;34m+\u001b[0m \u001b[0;34m\"/\"\u001b[0m \u001b[0;34m+\u001b[0m \u001b[0mlabel\u001b[0m\u001b[0;34m\u001b[0m\u001b[0;34m\u001b[0m\u001b[0m\n",
            "\u001b[0;31mNameError\u001b[0m: name 'X' is not defined"
          ]
        }
      ]
    },
    {
      "metadata": {
        "id": "31K0qOd7G4Ct",
        "colab_type": "text"
      },
      "cell_type": "markdown",
      "source": [
        "# Signet file"
      ]
    },
    {
      "metadata": {
        "id": "apPcorFom0Q1",
        "colab_type": "code",
        "outputId": "ee9ae8b7-a131-4086-8bac-9050f55470c3",
        "colab": {
          "base_uri": "https://localhost:8080/",
          "height": 1465
        }
      },
      "cell_type": "code",
      "source": [
        "import numpy as np\n",
        "import keras as k\n",
        "from keras.models import Sequential\n",
        "from keras.optimizers import Adam\n",
        "from keras.metrics import categorical_crossentropy\n",
        "from keras.preprocessing.image import ImageDataGenerator\n",
        "from keras.models import Sequential\n",
        "from keras.layers import Dense, Flatten, Conv2D, Dropout\n",
        "from keras.models import Sequential\n",
        "from keras.layers.core import Dense,Flatten\n",
        "from keras.optimizers import adam\n",
        "from keras.layers.normalization import BatchNormalization\n",
        "from keras.regularizers import l2\n",
        "\n",
        "from keras.layers.convolutional import *\n",
        "from keras.models import Sequential\n",
        "from keras.layers import Dense, Activation, Dropout, Flatten\n",
        "from keras.layers import Conv2D\n",
        "from keras.layers import MaxPooling2D\n",
        "from keras import optimizers\n",
        "\n",
        "train_path = 'gdrive/My Drive/Colab Notebooks/Training'\n",
        "valid_path = 'gdrive/My Drive/Colab Notebooks/Test'\n",
        "#test_path  = ''\n",
        "\n",
        "train_batches = ImageDataGenerator(rescale = 1./255).flow_from_directory(train_path,target_size=(155,224),color_mode = 'grayscale',classes=['real','forge'],batch_size = 32)\n",
        "valid_batches = ImageDataGenerator(rescale = 1./255).flow_from_directory(valid_path,target_size=(155,224),color_mode = 'grayscale',classes=['real','forge'],batch_size = 16)\n",
        "#test_batches  = ImageDataGenerator().flow_from_directory(test_path,targe_size=(224,224),classes=['Real','fake'],batch_size = 10)\n",
        "\n",
        "input_shape = (155, 224, 1)\n",
        "\n",
        "def create_base_network_signet(input_shape):\n",
        "    \n",
        "    seq = Sequential()\n",
        "    seq.add(Convolution2D(96, (11, 11), activation='relu', name='conv1_1', strides=(4,4), input_shape= input_shape, \n",
        "                        kernel_initializer='glorot_uniform', data_format='channels_last'))\n",
        "    #seq.add(BatchNormalization(epsilon=1e-06, axis=1, momentum=0.9))\n",
        "    seq.add(MaxPooling2D((3,3), strides=(2, 2)))    \n",
        "    seq.add(ZeroPadding2D((2, 2),))\n",
        "    \n",
        "    seq.add(Convolution2D(256, (5, 5), activation='relu', name='conv2_1', strides=(1, 1), kernel_initializer='glorot_uniform'))\n",
        "    #seq.add(BatchNormalization(epsilon=1e-06, axis=1, momentum=0.9))\n",
        "    seq.add(MaxPooling2D((3,3), strides=(2, 2)))\n",
        "    seq.add(Dropout(0.3))# added extra\n",
        "    seq.add(ZeroPadding2D((1, 1)))\n",
        "    \n",
        "    seq.add(Convolution2D(384, (3, 3), activation='relu', name='conv3_1', strides=(1, 1), kernel_initializer='glorot_uniform'))\n",
        "    seq.add(ZeroPadding2D((1, 1)))\n",
        "    \n",
        "    seq.add(Convolution2D(256, (3, 3), activation='relu', name='conv3_2', strides=(1, 1), kernel_initializer='glorot_uniform'))    \n",
        "    seq.add(MaxPooling2D((3,3), strides=(2, 2)))\n",
        "    seq.add(Dropout(0.3))# added extra\n",
        "#    model.add(SpatialPyramidPooling([1, 2, 4]))\n",
        "    seq.add(Flatten(name='flatten'))\n",
        "    seq.add(Dense(1024, kernel_regularizer=l2(0.0005), activation='relu', kernel_initializer='glorot_uniform'))\n",
        "    seq.add(Dropout(0.5))\n",
        "    \n",
        "    seq.add(Dense(128, kernel_regularizer=l2(0.0005), activation='relu', kernel_initializer='glorot_uniform')) # softmax changed to relu\n",
        "    seq.add(Dense(2,activation='softmax'))\n",
        "    print (seq.summary())\n",
        "    return seq\n",
        "\n",
        "model = create_base_network_signet(input_shape)\n",
        "\n",
        "gd = optimizers.SGD(lr=0.01, decay=1e-6, momentum=0.9, nesterov=True)\n",
        "adam = Adam(lr = 0.0001)\n",
        "model.compile(loss=k.losses.categorical_crossentropy,optimizer = gd,metrics=['accuracy'])\n",
        "model.fit_generator(train_batches,steps_per_epoch =18 ,validation_data= valid_batches,validation_steps = 10,epochs = 20 , verbose = 1)\n",
        "model.save('gdrive/My Drive/Colab Notebooks/signet_model.h5')"
      ],
      "execution_count": 0,
      "outputs": [
        {
          "output_type": "stream",
          "text": [
            "Found 567 images belonging to 2 classes.\n",
            "Found 164 images belonging to 2 classes.\n",
            "_________________________________________________________________\n",
            "Layer (type)                 Output Shape              Param #   \n",
            "=================================================================\n",
            "conv1_1 (Conv2D)             (None, 37, 54, 96)        11712     \n",
            "_________________________________________________________________\n",
            "max_pooling2d_10 (MaxPooling (None, 18, 26, 96)        0         \n",
            "_________________________________________________________________\n",
            "zero_padding2d_10 (ZeroPaddi (None, 22, 30, 96)        0         \n",
            "_________________________________________________________________\n",
            "conv2_1 (Conv2D)             (None, 18, 26, 256)       614656    \n",
            "_________________________________________________________________\n",
            "max_pooling2d_11 (MaxPooling (None, 8, 12, 256)        0         \n",
            "_________________________________________________________________\n",
            "dropout_10 (Dropout)         (None, 8, 12, 256)        0         \n",
            "_________________________________________________________________\n",
            "zero_padding2d_11 (ZeroPaddi (None, 10, 14, 256)       0         \n",
            "_________________________________________________________________\n",
            "conv3_1 (Conv2D)             (None, 8, 12, 384)        885120    \n",
            "_________________________________________________________________\n",
            "zero_padding2d_12 (ZeroPaddi (None, 10, 14, 384)       0         \n",
            "_________________________________________________________________\n",
            "conv3_2 (Conv2D)             (None, 8, 12, 256)        884992    \n",
            "_________________________________________________________________\n",
            "max_pooling2d_12 (MaxPooling (None, 3, 5, 256)         0         \n",
            "_________________________________________________________________\n",
            "dropout_11 (Dropout)         (None, 3, 5, 256)         0         \n",
            "_________________________________________________________________\n",
            "flatten (Flatten)            (None, 3840)              0         \n",
            "_________________________________________________________________\n",
            "dense_10 (Dense)             (None, 1024)              3933184   \n",
            "_________________________________________________________________\n",
            "dropout_12 (Dropout)         (None, 1024)              0         \n",
            "_________________________________________________________________\n",
            "dense_11 (Dense)             (None, 128)               131200    \n",
            "_________________________________________________________________\n",
            "dense_12 (Dense)             (None, 2)                 258       \n",
            "=================================================================\n",
            "Total params: 6,461,122\n",
            "Trainable params: 6,461,122\n",
            "Non-trainable params: 0\n",
            "_________________________________________________________________\n",
            "None\n",
            "Epoch 1/20\n",
            "18/18 [==============================] - 123s 7s/step - loss: 1.6211 - acc: 0.4890 - val_loss: 1.6128 - val_acc: 0.5062\n",
            "Epoch 2/20\n",
            "18/18 [==============================] - 6s 347ms/step - loss: 1.6140 - acc: 0.5253 - val_loss: 1.6159 - val_acc: 0.4932\n",
            "Epoch 3/20\n",
            "18/18 [==============================] - 7s 367ms/step - loss: 1.6120 - acc: 0.4762 - val_loss: 1.6090 - val_acc: 0.4730\n",
            "Epoch 4/20\n",
            "18/18 [==============================] - 7s 362ms/step - loss: 1.6059 - acc: 0.4873 - val_loss: 1.6031 - val_acc: 0.5270\n",
            "Epoch 5/20\n",
            "18/18 [==============================] - 7s 369ms/step - loss: 1.6039 - acc: 0.4721 - val_loss: 1.5997 - val_acc: 0.4865\n",
            "Epoch 6/20\n",
            "18/18 [==============================] - 7s 371ms/step - loss: 1.5999 - acc: 0.4816 - val_loss: 1.5961 - val_acc: 0.5135\n",
            "Epoch 7/20\n",
            "18/18 [==============================] - 6s 352ms/step - loss: 1.5953 - acc: 0.5062 - val_loss: 1.5921 - val_acc: 0.5338\n",
            "Epoch 8/20\n",
            "18/18 [==============================] - 6s 353ms/step - loss: 1.5927 - acc: 0.5023 - val_loss: 1.5894 - val_acc: 0.5338\n",
            "Epoch 9/20\n",
            "18/18 [==============================] - 7s 370ms/step - loss: 1.5887 - acc: 0.4960 - val_loss: 1.5856 - val_acc: 0.5203\n",
            "Epoch 10/20\n",
            "18/18 [==============================] - 7s 367ms/step - loss: 1.5870 - acc: 0.4773 - val_loss: 1.5824 - val_acc: 0.5743\n",
            "Epoch 11/20\n",
            "18/18 [==============================] - 6s 358ms/step - loss: 1.5823 - acc: 0.5058 - val_loss: 1.5787 - val_acc: 0.5135\n",
            "Epoch 12/20\n",
            "18/18 [==============================] - 7s 369ms/step - loss: 1.5778 - acc: 0.4897 - val_loss: 1.5746 - val_acc: 0.5062\n",
            "Epoch 13/20\n",
            "18/18 [==============================] - 7s 372ms/step - loss: 1.5759 - acc: 0.4973 - val_loss: 1.5709 - val_acc: 0.6014\n",
            "Epoch 14/20\n",
            "18/18 [==============================] - 7s 368ms/step - loss: 1.5714 - acc: 0.5140 - val_loss: 1.5672 - val_acc: 0.5068\n",
            "Epoch 15/20\n",
            "18/18 [==============================] - 7s 376ms/step - loss: 1.5682 - acc: 0.5053 - val_loss: 1.5652 - val_acc: 0.5811\n",
            "Epoch 16/20\n",
            "18/18 [==============================] - 7s 371ms/step - loss: 1.5656 - acc: 0.5162 - val_loss: 1.5598 - val_acc: 0.6081\n",
            "Epoch 17/20\n",
            "18/18 [==============================] - 7s 368ms/step - loss: 1.5599 - acc: 0.5051 - val_loss: 1.5529 - val_acc: 0.5676\n",
            "Epoch 18/20\n",
            "18/18 [==============================] - 7s 369ms/step - loss: 1.5573 - acc: 0.5053 - val_loss: 1.5513 - val_acc: 0.5811\n",
            "Epoch 19/20\n",
            "18/18 [==============================] - 7s 363ms/step - loss: 1.5497 - acc: 0.5229 - val_loss: 1.5363 - val_acc: 0.5405\n",
            "Epoch 20/20\n",
            "18/18 [==============================] - 7s 367ms/step - loss: 1.5466 - acc: 0.5298 - val_loss: 1.5331 - val_acc: 0.6081\n"
          ],
          "name": "stdout"
        }
      ]
    },
    {
      "metadata": {
        "id": "i0rPTXaEG7uj",
        "colab_type": "text"
      },
      "cell_type": "markdown",
      "source": [
        "# Nisarg VGG impl\n"
      ]
    },
    {
      "metadata": {
        "id": "bZHin-g5yvGt",
        "colab_type": "code",
        "outputId": "e1d09931-13ff-49c5-bdcd-30043853540a",
        "colab": {
          "base_uri": "https://localhost:8080/",
          "height": 3556
        }
      },
      "cell_type": "code",
      "source": [
        "import numpy as np\n",
        "import keras as k\n",
        "from keras.models import Sequential\n",
        "from keras.optimizers import Adam\n",
        "from keras.metrics import categorical_crossentropy\n",
        "from keras.preprocessing.image import ImageDataGenerator\n",
        "from keras.models import Sequential, Model\n",
        "from keras.layers import Dense, Flatten, Conv2D, Dropout\n",
        "from keras.models import Sequential\n",
        "from keras.layers.core import Dense,Flatten\n",
        "from keras.optimizers import adam\n",
        "from keras.layers.normalization import BatchNormalization\n",
        "from keras.layers.convolutional import *\n",
        "from keras.models import Sequential\n",
        "from keras.layers import Dense, Activation, Dropout, Flatten\n",
        "from keras.layers import Conv2D\n",
        "from keras.layers import MaxPooling2D\n",
        "from keras import optimizers\n",
        "from keras.utils.data_utils import get_file\n",
        "\n",
        "train_path = 'gdrive/My Drive/Colab Notebooks/Training'\n",
        "valid_path = 'gdrive/My Drive/Colab Notebooks/Test'\n",
        "#test_path  = ''\n",
        "\n",
        "train_batches = ImageDataGenerator().flow_from_directory(train_path,target_size=(224,224),color_mode = 'rgb',classes=['real','forge'],batch_size = 16)\n",
        "valid_batches = ImageDataGenerator().flow_from_directory(valid_path,target_size=(224,224),color_mode = 'rgb',classes=['real','forge'],batch_size = 8)\n",
        "#test_batches  = ImageDataGenerator().flow_from_directory(test_path,targe_size=(224,224),classes=['Real','fake'],batch_size = 10)\n",
        "\n",
        "input_shape = (224, 224, 3)\n",
        "filepath = \"https://github.com/fchollet/deep-learning-models/releases/download/v0.1/vgg16_weights_tf_dim_ordering_tf_kernels.h5\"\n",
        "\n",
        "def VGG16(filepath, input_shape=None , classes=1000):\n",
        "    model = Sequential()\n",
        "    # Block 1\n",
        "    model.add(Conv2D(64, (3, 3), input_shape=input_shape, activation='relu', padding='same', name='block1_conv1'))\n",
        "    model.add(Conv2D(64, (3, 3), activation='relu', padding='same', name='block1_conv2'))\n",
        "    model.add(MaxPooling2D((2, 2), strides=(2, 2), name='block1_pool'))\n",
        "\n",
        "    # Block 2\n",
        "    model.add(Conv2D(128, (3, 3), activation='relu', padding='same', name='block2_conv1'))\n",
        "    model.add(Conv2D(128, (3, 3), activation='relu', padding='same', name='block2_conv2'))\n",
        "    model.add(MaxPooling2D((2, 2), strides=(2, 2), name='block2_pool'))\n",
        "\n",
        "    # Block 3\n",
        "    model.add(Conv2D(256, (3, 3), activation='relu', padding='same', name='block3_conv1'))\n",
        "    model.add(Conv2D(256, (3, 3), activation='relu', padding='same', name='block3_conv2'))\n",
        "    model.add(Conv2D(256, (3, 3), activation='relu', padding='same', name='block3_conv3'))\n",
        "    model.add(MaxPooling2D((2, 2), strides=(2, 2), name='block3_pool'))\n",
        "\n",
        "    # Block 4\n",
        "    model.add(Conv2D(512, (3, 3), activation='relu', padding='same', name='block4_conv1'))\n",
        "    model.add(Conv2D(512, (3, 3), activation='relu', padding='same', name='block4_conv2'))\n",
        "    model.add(Conv2D(512, (3, 3), activation='relu', padding='same', name='block4_conv3'))\n",
        "    model.add(MaxPooling2D((2, 2), strides=(2, 2), name='block4_pool'))\n",
        "\n",
        "    # Block 5\n",
        "    model.add(Conv2D(512, (3, 3), activation='relu', padding='same', name='block5_conv1'))\n",
        "    model.add(Conv2D(512, (3, 3), activation='relu', padding='same', name='block5_conv2'))\n",
        "    model.add(Conv2D(512, (3, 3), activation='relu', padding='same', name='block5_conv3'))\n",
        "    model.add(MaxPooling2D((2, 2), strides=(2, 2), name='block5_pool'))\n",
        "\n",
        "    # Classification block\n",
        "    model.add(Flatten(name='flatten'))\n",
        "    model.add(Dense(4096, activation='relu', name='fc1'))\n",
        "    model.add(Dense(4096, activation='relu', name='fc2'))\n",
        "    model.add(Dense(classes, activation='softmax', name='predictions'))\n",
        "\n",
        "    model.load_weights(filepath, by_name=True)\n",
        "    model.summary()\n",
        "    return model\n",
        "\n",
        "def my_model(VGG_model, classes=2):\n",
        "    x = Dense(2, activation='softmax', name='predictions')(vgg16_model.layers[-2].output)\n",
        "    model = Model(input=vgg16_model.input, output=x)\n",
        "    for layer in model.layers:\n",
        "      layer.trainable = False\n",
        "    model.get_layer('fc1').trainable = True\n",
        "    model.get_layer('fc2').trainable = True\n",
        "    model.get_layer('predictions').trainable = True\n",
        "    model.summary()\n",
        "    return model\n",
        "\n",
        "weights_path = get_file('vgg16_weights_tf_dim_ordering_tf_kernels.h5', filepath)\n",
        "vgg16_model = VGG16(filepath = weights_path, input_shape=input_shape)\n",
        "model = my_model(vgg16_model)\n",
        "#model.layers.pop()\n",
        "#model.add(Dense(2,activation='softmax'))\n",
        "gd = optimizers.SGD(lr=0.01, decay=1e-6, momentum=0.9, nesterov=True)\n",
        "adam = Adam(lr = 0.0001)\n",
        "model.compile(loss=k.losses.categorical_crossentropy,optimizer = gd,metrics=['accuracy'])\n",
        "model.fit_generator(train_batches,steps_per_epoch =36 ,validation_data= valid_batches,validation_steps = 20, epochs = 50, verbose = 1)\n",
        "model.save('gdrive/My Drive/Colab Notebooks/signature_model_vgg_impl_50epochs.h5')"
      ],
      "execution_count": 0,
      "outputs": [
        {
          "output_type": "stream",
          "text": [
            "Found 567 images belonging to 2 classes.\n",
            "Found 164 images belonging to 2 classes.\n",
            "_________________________________________________________________\n",
            "Layer (type)                 Output Shape              Param #   \n",
            "=================================================================\n",
            "block1_conv1 (Conv2D)        (None, 224, 224, 64)      1792      \n",
            "_________________________________________________________________\n",
            "block1_conv2 (Conv2D)        (None, 224, 224, 64)      36928     \n",
            "_________________________________________________________________\n",
            "block1_pool (MaxPooling2D)   (None, 112, 112, 64)      0         \n",
            "_________________________________________________________________\n",
            "block2_conv1 (Conv2D)        (None, 112, 112, 128)     73856     \n",
            "_________________________________________________________________\n",
            "block2_conv2 (Conv2D)        (None, 112, 112, 128)     147584    \n",
            "_________________________________________________________________\n",
            "block2_pool (MaxPooling2D)   (None, 56, 56, 128)       0         \n",
            "_________________________________________________________________\n",
            "block3_conv1 (Conv2D)        (None, 56, 56, 256)       295168    \n",
            "_________________________________________________________________\n",
            "block3_conv2 (Conv2D)        (None, 56, 56, 256)       590080    \n",
            "_________________________________________________________________\n",
            "block3_conv3 (Conv2D)        (None, 56, 56, 256)       590080    \n",
            "_________________________________________________________________\n",
            "block3_pool (MaxPooling2D)   (None, 28, 28, 256)       0         \n",
            "_________________________________________________________________\n",
            "block4_conv1 (Conv2D)        (None, 28, 28, 512)       1180160   \n",
            "_________________________________________________________________\n",
            "block4_conv2 (Conv2D)        (None, 28, 28, 512)       2359808   \n",
            "_________________________________________________________________\n",
            "block4_conv3 (Conv2D)        (None, 28, 28, 512)       2359808   \n",
            "_________________________________________________________________\n",
            "block4_pool (MaxPooling2D)   (None, 14, 14, 512)       0         \n",
            "_________________________________________________________________\n",
            "block5_conv1 (Conv2D)        (None, 14, 14, 512)       2359808   \n",
            "_________________________________________________________________\n",
            "block5_conv2 (Conv2D)        (None, 14, 14, 512)       2359808   \n",
            "_________________________________________________________________\n",
            "block5_conv3 (Conv2D)        (None, 14, 14, 512)       2359808   \n",
            "_________________________________________________________________\n",
            "block5_pool (MaxPooling2D)   (None, 7, 7, 512)         0         \n",
            "_________________________________________________________________\n",
            "flatten (Flatten)            (None, 25088)             0         \n",
            "_________________________________________________________________\n",
            "fc1 (Dense)                  (None, 4096)              102764544 \n",
            "_________________________________________________________________\n",
            "fc2 (Dense)                  (None, 4096)              16781312  \n",
            "_________________________________________________________________\n",
            "predictions (Dense)          (None, 1000)              4097000   \n",
            "=================================================================\n",
            "Total params: 138,357,544\n",
            "Trainable params: 138,357,544\n",
            "Non-trainable params: 0\n",
            "_________________________________________________________________\n",
            "_________________________________________________________________\n",
            "Layer (type)                 Output Shape              Param #   \n",
            "=================================================================\n",
            "block1_conv1_input (InputLay (None, 224, 224, 3)       0         \n",
            "_________________________________________________________________\n",
            "block1_conv1 (Conv2D)        (None, 224, 224, 64)      1792      \n",
            "_________________________________________________________________\n",
            "block1_conv2 (Conv2D)        (None, 224, 224, 64)      36928     \n",
            "_________________________________________________________________\n",
            "block1_pool (MaxPooling2D)   (None, 112, 112, 64)      0         \n",
            "_________________________________________________________________\n",
            "block2_conv1 (Conv2D)        (None, 112, 112, 128)     73856     \n",
            "_________________________________________________________________\n",
            "block2_conv2 (Conv2D)        (None, 112, 112, 128)     147584    \n",
            "_________________________________________________________________\n",
            "block2_pool (MaxPooling2D)   (None, 56, 56, 128)       0         \n",
            "_________________________________________________________________\n",
            "block3_conv1 (Conv2D)        (None, 56, 56, 256)       295168    \n",
            "_________________________________________________________________\n",
            "block3_conv2 (Conv2D)        (None, 56, 56, 256)       590080    \n",
            "_________________________________________________________________\n",
            "block3_conv3 (Conv2D)        (None, 56, 56, 256)       590080    \n",
            "_________________________________________________________________\n",
            "block3_pool (MaxPooling2D)   (None, 28, 28, 256)       0         \n",
            "_________________________________________________________________\n",
            "block4_conv1 (Conv2D)        (None, 28, 28, 512)       1180160   \n",
            "_________________________________________________________________\n",
            "block4_conv2 (Conv2D)        (None, 28, 28, 512)       2359808   \n",
            "_________________________________________________________________\n",
            "block4_conv3 (Conv2D)        (None, 28, 28, 512)       2359808   \n",
            "_________________________________________________________________\n",
            "block4_pool (MaxPooling2D)   (None, 14, 14, 512)       0         \n",
            "_________________________________________________________________\n",
            "block5_conv1 (Conv2D)        (None, 14, 14, 512)       2359808   \n",
            "_________________________________________________________________\n",
            "block5_conv2 (Conv2D)        (None, 14, 14, 512)       2359808   \n",
            "_________________________________________________________________\n",
            "block5_conv3 (Conv2D)        (None, 14, 14, 512)       2359808   \n",
            "_________________________________________________________________\n",
            "block5_pool (MaxPooling2D)   (None, 7, 7, 512)         0         \n",
            "_________________________________________________________________\n",
            "flatten (Flatten)            (None, 25088)             0         \n",
            "_________________________________________________________________\n",
            "fc1 (Dense)                  (None, 4096)              102764544 \n",
            "_________________________________________________________________\n",
            "fc2 (Dense)                  (None, 4096)              16781312  \n",
            "_________________________________________________________________\n",
            "predictions (Dense)          (None, 2)                 8194      \n",
            "=================================================================\n",
            "Total params: 134,268,738\n",
            "Trainable params: 8,194\n",
            "Non-trainable params: 134,260,544\n",
            "_________________________________________________________________\n"
          ],
          "name": "stdout"
        },
        {
          "output_type": "stream",
          "text": [
            "/usr/local/lib/python3.6/dist-packages/ipykernel_launcher.py:74: UserWarning: Update your `Model` call to the Keras 2 API: `Model(inputs=Tensor(\"bl..., outputs=Tensor(\"pr...)`\n"
          ],
          "name": "stderr"
        },
        {
          "output_type": "stream",
          "text": [
            "Epoch 1/50\n",
            "36/36 [==============================] - 126s 3s/step - loss: 6.7812 - acc: 0.5263 - val_loss: 5.3310 - val_acc: 0.6125\n",
            "Epoch 2/50\n",
            "36/36 [==============================] - 9s 262ms/step - loss: 5.7278 - acc: 0.6023 - val_loss: 6.3527 - val_acc: 0.5833\n",
            "Epoch 3/50\n",
            "36/36 [==============================] - 9s 238ms/step - loss: 5.7413 - acc: 0.6131 - val_loss: 5.4748 - val_acc: 0.6346\n",
            "Epoch 4/50\n",
            "36/36 [==============================] - 9s 238ms/step - loss: 4.8593 - acc: 0.6617 - val_loss: 5.9478 - val_acc: 0.6026\n",
            "Epoch 5/50\n",
            "36/36 [==============================] - 9s 238ms/step - loss: 4.6690 - acc: 0.6691 - val_loss: 3.6998 - val_acc: 0.7244\n",
            "Epoch 6/50\n",
            "36/36 [==============================] - 9s 239ms/step - loss: 3.9477 - acc: 0.7277 - val_loss: 4.4632 - val_acc: 0.6731\n",
            "Epoch 7/50\n",
            "36/36 [==============================] - 9s 238ms/step - loss: 3.8420 - acc: 0.7338 - val_loss: 3.7060 - val_acc: 0.7115\n",
            "Epoch 8/50\n",
            "36/36 [==============================] - 9s 239ms/step - loss: 3.1279 - acc: 0.7607 - val_loss: 3.9754 - val_acc: 0.7244\n",
            "Epoch 9/50\n",
            "36/36 [==============================] - 9s 239ms/step - loss: 2.8855 - acc: 0.7872 - val_loss: 4.6832 - val_acc: 0.6859\n",
            "Epoch 10/50\n",
            "36/36 [==============================] - 9s 239ms/step - loss: 2.6179 - acc: 0.8055 - val_loss: 4.4422 - val_acc: 0.6923\n",
            "Epoch 11/50\n",
            "36/36 [==============================] - 9s 238ms/step - loss: 3.3096 - acc: 0.7612 - val_loss: 4.7776 - val_acc: 0.6603\n",
            "Epoch 12/50\n",
            "36/36 [==============================] - 9s 239ms/step - loss: 3.8620 - acc: 0.7256 - val_loss: 7.2914 - val_acc: 0.5385\n",
            "Epoch 13/50\n",
            "36/36 [==============================] - 9s 239ms/step - loss: 3.4611 - acc: 0.7521 - val_loss: 4.0386 - val_acc: 0.6795\n",
            "Epoch 14/50\n",
            "36/36 [==============================] - 9s 239ms/step - loss: 2.1766 - acc: 0.8328 - val_loss: 3.0707 - val_acc: 0.7564\n",
            "Epoch 15/50\n",
            "36/36 [==============================] - 9s 239ms/step - loss: 1.9550 - acc: 0.8432 - val_loss: 2.8160 - val_acc: 0.7436\n",
            "Epoch 16/50\n",
            "36/36 [==============================] - 9s 239ms/step - loss: 2.3786 - acc: 0.8263 - val_loss: 2.6471 - val_acc: 0.7692\n",
            "Epoch 17/50\n",
            "36/36 [==============================] - 9s 240ms/step - loss: 1.9006 - acc: 0.8445 - val_loss: 3.1691 - val_acc: 0.7564\n",
            "Epoch 18/50\n",
            "36/36 [==============================] - 9s 239ms/step - loss: 1.9366 - acc: 0.8450 - val_loss: 2.4241 - val_acc: 0.8077\n",
            "Epoch 19/50\n",
            "36/36 [==============================] - 9s 238ms/step - loss: 1.6437 - acc: 0.8589 - val_loss: 2.9187 - val_acc: 0.7885\n",
            "Epoch 20/50\n",
            "36/36 [==============================] - 9s 238ms/step - loss: 1.1721 - acc: 0.9097 - val_loss: 2.1370 - val_acc: 0.8462\n",
            "Epoch 21/50\n",
            "36/36 [==============================] - 9s 239ms/step - loss: 1.0830 - acc: 0.9006 - val_loss: 2.1135 - val_acc: 0.8141\n",
            "Epoch 22/50\n",
            "36/36 [==============================] - 9s 240ms/step - loss: 1.3818 - acc: 0.8849 - val_loss: 2.0331 - val_acc: 0.8375\n",
            "Epoch 23/50\n",
            "36/36 [==============================] - 9s 239ms/step - loss: 1.0361 - acc: 0.9062 - val_loss: 1.5840 - val_acc: 0.8462\n",
            "Epoch 24/50\n",
            "36/36 [==============================] - 9s 239ms/step - loss: 0.9955 - acc: 0.9249 - val_loss: 2.4706 - val_acc: 0.8205\n",
            "Epoch 25/50\n",
            "36/36 [==============================] - 9s 238ms/step - loss: 0.8396 - acc: 0.9271 - val_loss: 2.0516 - val_acc: 0.8526\n",
            "Epoch 26/50\n",
            "36/36 [==============================] - 9s 238ms/step - loss: 0.6884 - acc: 0.9301 - val_loss: 2.5280 - val_acc: 0.8333\n",
            "Epoch 27/50\n",
            "36/36 [==============================] - 9s 238ms/step - loss: 0.9684 - acc: 0.9227 - val_loss: 2.3944 - val_acc: 0.8333\n",
            "Epoch 28/50\n",
            "36/36 [==============================] - 9s 239ms/step - loss: 0.8802 - acc: 0.9197 - val_loss: 4.5622 - val_acc: 0.7051\n",
            "Epoch 29/50\n",
            "36/36 [==============================] - 9s 239ms/step - loss: 0.7554 - acc: 0.9271 - val_loss: 1.8734 - val_acc: 0.8718\n",
            "Epoch 30/50\n",
            "36/36 [==============================] - 9s 238ms/step - loss: 0.5358 - acc: 0.9440 - val_loss: 2.2071 - val_acc: 0.8397\n",
            "Epoch 31/50\n",
            "36/36 [==============================] - 9s 238ms/step - loss: 0.4579 - acc: 0.9618 - val_loss: 1.5372 - val_acc: 0.8782\n",
            "Epoch 32/50\n",
            "36/36 [==============================] - 9s 243ms/step - loss: 0.7869 - acc: 0.9353 - val_loss: 2.2866 - val_acc: 0.8205\n",
            "Epoch 33/50\n",
            "36/36 [==============================] - 9s 239ms/step - loss: 1.1662 - acc: 0.9045 - val_loss: 2.2631 - val_acc: 0.8333\n",
            "Epoch 34/50\n",
            "36/36 [==============================] - 9s 238ms/step - loss: 0.7427 - acc: 0.9357 - val_loss: 3.3854 - val_acc: 0.7115\n",
            "Epoch 35/50\n",
            "36/36 [==============================] - 9s 238ms/step - loss: 0.6757 - acc: 0.9292 - val_loss: 2.1886 - val_acc: 0.8333\n",
            "Epoch 36/50\n",
            "36/36 [==============================] - 9s 239ms/step - loss: 0.6120 - acc: 0.9392 - val_loss: 2.2290 - val_acc: 0.8013\n",
            "Epoch 37/50\n",
            "36/36 [==============================] - 9s 238ms/step - loss: 0.3818 - acc: 0.9566 - val_loss: 1.6776 - val_acc: 0.8654\n",
            "Epoch 38/50\n",
            "36/36 [==============================] - 9s 239ms/step - loss: 0.3780 - acc: 0.9700 - val_loss: 2.0187 - val_acc: 0.8590\n",
            "Epoch 39/50\n",
            "36/36 [==============================] - 9s 238ms/step - loss: 0.2791 - acc: 0.9687 - val_loss: 1.5778 - val_acc: 0.8654\n",
            "Epoch 40/50\n",
            "36/36 [==============================] - 9s 239ms/step - loss: 0.3027 - acc: 0.9722 - val_loss: 1.9036 - val_acc: 0.8526\n",
            "Epoch 41/50\n",
            "36/36 [==============================] - 9s 238ms/step - loss: 0.2333 - acc: 0.9757 - val_loss: 1.6528 - val_acc: 0.8782\n",
            "Epoch 42/50\n",
            "36/36 [==============================] - 9s 238ms/step - loss: 0.2635 - acc: 0.9752 - val_loss: 2.0918 - val_acc: 0.8462\n",
            "Epoch 43/50\n",
            "36/36 [==============================] - 9s 240ms/step - loss: 0.2424 - acc: 0.9809 - val_loss: 1.6823 - val_acc: 0.8750\n",
            "Epoch 44/50\n",
            "36/36 [==============================] - 9s 239ms/step - loss: 0.2275 - acc: 0.9844 - val_loss: 1.7758 - val_acc: 0.8590\n",
            "Epoch 45/50\n",
            "36/36 [==============================] - 9s 239ms/step - loss: 0.2964 - acc: 0.9787 - val_loss: 1.7016 - val_acc: 0.8718\n",
            "Epoch 46/50\n",
            "36/36 [==============================] - 9s 239ms/step - loss: 0.2240 - acc: 0.9861 - val_loss: 1.6915 - val_acc: 0.8782\n",
            "Epoch 47/50\n",
            "36/36 [==============================] - 9s 239ms/step - loss: 0.2240 - acc: 0.9861 - val_loss: 1.6913 - val_acc: 0.8846\n",
            "Epoch 48/50\n",
            "36/36 [==============================] - 9s 238ms/step - loss: 0.2590 - acc: 0.9839 - val_loss: 1.7744 - val_acc: 0.8718\n",
            "Epoch 49/50\n",
            "36/36 [==============================] - 9s 238ms/step - loss: 0.2240 - acc: 0.9861 - val_loss: 1.6123 - val_acc: 0.8846\n",
            "Epoch 50/50\n",
            "36/36 [==============================] - 9s 239ms/step - loss: 0.2240 - acc: 0.9861 - val_loss: 1.8223 - val_acc: 0.8654\n"
          ],
          "name": "stdout"
        }
      ]
    }
  ]
}